{
 "cells": [
  {
   "cell_type": "code",
   "execution_count": 1,
   "metadata": {
    "collapsed": true
   },
   "outputs": [],
   "source": [
    "# conda install -y gensim\n",
    "# run cell\n",
    "# conda uninstall -y boto\n",
    "# conda install -y boto\n",
    "\n",
    "import glob\n",
    "import os\n",
    "import numpy as np\n",
    "import pandas as pd\n",
    "import pymorphy2\n",
    "import re\n",
    "from tqdm import tqdm\n",
    "import _pickle as cPickle"
   ]
  },
  {
   "cell_type": "markdown",
   "metadata": {},
   "source": [
    "## Настройки"
   ]
  },
  {
   "cell_type": "code",
   "execution_count": 182,
   "metadata": {
    "collapsed": true
   },
   "outputs": [],
   "source": [
    "# Путь к папке с сохраненными данными\n",
    "data_folder = 'rutent2'\n",
    "\n",
    "# Путь к папке с предобученной моделью\n",
    "# rutent2_2: Presicion: 0.9664723032069971, Recall: 0.9477445997458704, F-score: 0.9570168404170009\n",
    "# rutent2_3: Presicion: 0.9608867775138559, Recall: 0.9637865311308768, F-score: 0.9623344699072238\n",
    "# ententen13_1: Presicion: 0.5797101449275363, Recall: 0.5882352941176471, F-score: 0.583941605839416\n",
    "# ententen13_2: Presicion: 0.6311475409836066, Recall: 0.5661764705882353, F-score: 0.5968992248062016\n",
    "# (на чисто тестовой: Presicion: 0.6280487804878049, Recall: 0.5786516853932584, F-score: 0.6023391812865497)\n",
    "model_folder = 'rutent2_3'\n",
    "\n",
    "MAX_SEQ_LENGTH = 30  # максимальное количество слов в предложении\n",
    "\n",
    "# Настройки сети\n",
    "LEARNING_RATE = .0001\n",
    "TRAIN_SPLIT = 0.7  # доля обучающей выборки"
   ]
  },
  {
   "cell_type": "markdown",
   "metadata": {},
   "source": [
    "## Загрузка тестовой выборки из файлов"
   ]
  },
  {
   "cell_type": "code",
   "execution_count": 3,
   "metadata": {
    "collapsed": true
   },
   "outputs": [],
   "source": [
    "X_test = cPickle.load(open(os.path.join(data_folder, \"X_test.pkl\"), \"rb\"))\n",
    "targets = cPickle.load(open(os.path.join(data_folder, \"y_test.pkl\"), \"rb\"))\n",
    "texts = cPickle.load(open(os.path.join(data_folder, \"texts.pkl\"), \"rb\"))"
   ]
  },
  {
   "cell_type": "code",
   "execution_count": 4,
   "metadata": {
    "collapsed": false
   },
   "outputs": [
    {
     "name": "stdout",
     "output_type": "stream",
     "text": [
      "X_test shape: (65051, 30, 200)\n",
      "y_test shape: (65051, 30, 2)\n",
      "texts length: 216835\n"
     ]
    }
   ],
   "source": [
    "print(\"X_test shape:\", X_test.shape)\n",
    "print(\"y_test shape:\", targets.shape)\n",
    "print(\"texts length:\", len(texts))"
   ]
  },
  {
   "cell_type": "markdown",
   "metadata": {},
   "source": [
    "## Predict"
   ]
  },
  {
   "cell_type": "code",
   "execution_count": 5,
   "metadata": {
    "collapsed": false
   },
   "outputs": [
    {
     "name": "stderr",
     "output_type": "stream",
     "text": [
      "/home/o_sopilniak/anaconda3/lib/python3.6/site-packages/h5py/__init__.py:36: FutureWarning: Conversion of the second argument of issubdtype from `float` to `np.floating` is deprecated. In future, it will be treated as `np.float64 == np.dtype(float).type`.\n",
      "  from ._conv import register_converters as _register_converters\n",
      "Using TensorFlow backend.\n",
      "/home/o_sopilniak/anaconda3/lib/python3.6/importlib/_bootstrap.py:219: RuntimeWarning: compiletime version 3.5 of module 'tensorflow.python.framework.fast_tensor_util' does not match runtime version 3.6\n",
      "  return f(*args, **kwds)\n"
     ]
    }
   ],
   "source": [
    "from keras.optimizers import Adagrad\n",
    "from keras.models import model_from_json\n",
    "from sklearn.metrics import precision_score, recall_score, f1_score"
   ]
  },
  {
   "cell_type": "code",
   "execution_count": 6,
   "metadata": {
    "collapsed": true
   },
   "outputs": [],
   "source": [
    "adagrad = Adagrad(lr=.01, epsilon=None, decay=1e-6)"
   ]
  },
  {
   "cell_type": "code",
   "execution_count": 244,
   "metadata": {
    "collapsed": false
   },
   "outputs": [],
   "source": [
    "# Загрузим модель\n",
    "\n",
    "json_file = open(os.path.join(model_folder, 'model.json'), 'r')\n",
    "\n",
    "loaded_model_json = json_file.read()\n",
    "json_file.close()\n",
    "model = model_from_json(loaded_model_json)\n",
    "\n",
    "model.load_weights(os.path.join(model_folder, 'model.h5'))\n",
    "model.compile(loss='categorical_crossentropy', optimizer=adagrad, metrics=['categorical_accuracy'])  # 'adam', 'accuracy'"
   ]
  },
  {
   "cell_type": "code",
   "execution_count": 245,
   "metadata": {
    "collapsed": false
   },
   "outputs": [
    {
     "name": "stdout",
     "output_type": "stream",
     "text": [
      "_________________________________________________________________\n",
      "Layer (type)                 Output Shape              Param #   \n",
      "=================================================================\n",
      "input_15 (InputLayer)        (None, 30, 200)           0         \n",
      "_________________________________________________________________\n",
      "bidirectional_15 (Bidirectio (None, 30, 128)           135680    \n",
      "_________________________________________________________________\n",
      "dense_14 (Dense)             (None, 30, 2)             258       \n",
      "_________________________________________________________________\n",
      "activation_14 (Activation)   (None, 30, 2)             0         \n",
      "=================================================================\n",
      "Total params: 135,938\n",
      "Trainable params: 135,938\n",
      "Non-trainable params: 0\n",
      "_________________________________________________________________\n"
     ]
    }
   ],
   "source": [
    "model.summary()"
   ]
  },
  {
   "cell_type": "code",
   "execution_count": 204,
   "metadata": {
    "collapsed": false
   },
   "outputs": [],
   "source": [
    "# %%time\n",
    "\n",
    "# scores = model.evaluate(X_test, targets, verbose=0)"
   ]
  },
  {
   "cell_type": "code",
   "execution_count": 10,
   "metadata": {
    "collapsed": false
   },
   "outputs": [
    {
     "data": {
      "text/plain": [
       "[0.0013932744138250752, 0.9676125902552031]"
      ]
     },
     "execution_count": 10,
     "metadata": {},
     "output_type": "execute_result"
    }
   ],
   "source": [
    "scores"
   ]
  },
  {
   "cell_type": "code",
   "execution_count": 301,
   "metadata": {
    "collapsed": true
   },
   "outputs": [],
   "source": [
    "test_start = 151784  # X.shape[0]\n",
    "\n",
    "# Меньше какой вероятности отрицательного класса говорить, что принадлежит положительному классу\n",
    "# POSITIVE_ANSWER_THRESHOLD = 0.665\n",
    "POSITIVE_ANSWER_THRESHOLD = 0.5\n",
    "# POSITIVE_ANSWER_THRESHOLD = 4e-1\n",
    "# POSITIVE_ANSWER_THRESHOLD = 9.1e-1"
   ]
  },
  {
   "cell_type": "markdown",
   "metadata": {},
   "source": [
    "## Проверка"
   ]
  },
  {
   "cell_type": "code",
   "execution_count": 291,
   "metadata": {
    "collapsed": false
   },
   "outputs": [
    {
     "name": "stdout",
     "output_type": "stream",
     "text": [
      "281\n",
      "389\n"
     ]
    }
   ],
   "source": [
    "for i, text in zip(range(len(texts[test_start:test_start + 1000])), texts[test_start:test_start + 1000]):\n",
    "    if \"не | будет\" in text:\n",
    "        print(i)"
   ]
  },
  {
   "cell_type": "code",
   "execution_count": 292,
   "metadata": {
    "collapsed": false
   },
   "outputs": [
    {
     "data": {
      "text/plain": [
       "array([[8.3502790e-08, 9.9999988e-01],\n",
       "       [5.6741430e-07, 9.9999940e-01],\n",
       "       [8.1057552e-09, 1.0000000e+00],\n",
       "       [5.1337907e-09, 1.0000000e+00],\n",
       "       [1.4514098e-08, 1.0000000e+00],\n",
       "       [3.1596915e-07, 9.9999964e-01],\n",
       "       [4.0412942e-06, 9.9999595e-01],\n",
       "       [3.4738708e-08, 1.0000000e+00],\n",
       "       [1.4269006e-08, 1.0000000e+00],\n",
       "       [1.2386043e-08, 1.0000000e+00],\n",
       "       [1.5163545e-08, 1.0000000e+00],\n",
       "       [1.1104365e-06, 9.9999893e-01],\n",
       "       [8.6119837e-01, 1.3880165e-01],\n",
       "       [1.2864594e-05, 9.9998713e-01],\n",
       "       [3.5456666e-01, 6.4543331e-01]], dtype=float32)"
      ]
     },
     "execution_count": 292,
     "metadata": {},
     "output_type": "execute_result"
    }
   ],
   "source": [
    "ind = 281\n",
    "predicted_values_ = model.predict(X_test[ind:ind + 1])\n",
    "\n",
    "words = texts[test_start + ind].split(\" | \")[:-1][:MAX_SEQ_LENGTH]\n",
    "\n",
    "predicted_values_[0][:len(words)]"
   ]
  },
  {
   "cell_type": "code",
   "execution_count": 293,
   "metadata": {
    "collapsed": false
   },
   "outputs": [
    {
     "data": {
      "text/plain": [
       "array([0., 0., 0., 0., 0., 0., 0., 0., 0., 0., 0., 0., 1., 0., 0.])"
      ]
     },
     "execution_count": 293,
     "metadata": {},
     "output_type": "execute_result"
    }
   ],
   "source": [
    "predicted_final = []\n",
    "\n",
    "for value in predicted_values_[0]:\n",
    "    if value[0] > POSITIVE_ANSWER_THRESHOLD:\n",
    "        predicted_final.append([1., 0.])\n",
    "    else:\n",
    "        predicted_final.append([0., 1.])\n",
    "        \n",
    "np.array(predicted_final)[:, 0][:len(words)]"
   ]
  },
  {
   "cell_type": "code",
   "execution_count": 294,
   "metadata": {
    "collapsed": false
   },
   "outputs": [
    {
     "data": {
      "text/plain": [
       "array([0, 0, 0, 0, 0, 0, 0, 0, 0, 0, 0, 0, 1, 0, 0])"
      ]
     },
     "execution_count": 294,
     "metadata": {},
     "output_type": "execute_result"
    }
   ],
   "source": [
    "real_final = targets[ind].tolist()\n",
    "np.array(real_final)[:, 0][:len(words)]"
   ]
  },
  {
   "cell_type": "code",
   "execution_count": 295,
   "metadata": {
    "collapsed": false
   },
   "outputs": [
    {
     "data": {
      "text/plain": [
       "1.0"
      ]
     },
     "execution_count": 295,
     "metadata": {},
     "output_type": "execute_result"
    }
   ],
   "source": [
    "real_length = len(real_final)\n",
    "f1_score(np.array(predicted_final)[:, 0][:len(words)], np.array(real_final)[:, 0][:len(words)], average='binary')"
   ]
  },
  {
   "cell_type": "code",
   "execution_count": 296,
   "metadata": {
    "collapsed": false
   },
   "outputs": [
    {
     "data": {
      "text/plain": [
       "'Как | говорится | в | пресс-релизе | АО | в целом | повестка | дня | собрания | которое | состоится | апреля | изменена | не | будет | '"
      ]
     },
     "execution_count": 296,
     "metadata": {},
     "output_type": "execute_result"
    }
   ],
   "source": [
    "texts[test_start + ind]"
   ]
  },
  {
   "cell_type": "markdown",
   "metadata": {},
   "source": [
    "## Валидация"
   ]
  },
  {
   "cell_type": "code",
   "execution_count": 253,
   "metadata": {
    "collapsed": true
   },
   "outputs": [],
   "source": [
    "predicted_values = model.predict(X_test)"
   ]
  },
  {
   "cell_type": "code",
   "execution_count": 302,
   "metadata": {
    "collapsed": false,
    "scrolled": true
   },
   "outputs": [
    {
     "name": "stderr",
     "output_type": "stream",
     "text": [
      "65051it [00:09, 6746.15it/s]\n"
     ]
    }
   ],
   "source": [
    "error_sentences_indexes = []\n",
    "\n",
    "cases_dict = {\n",
    "    'after_no_indexes_tp': [],\n",
    "    'after_no_indexes_fn': [],\n",
    "    'after_no_indexes_fp': [],\n",
    "    'after_no_indexes_tn': [],\n",
    "    'before_no_indexes_tp': [],\n",
    "    'before_no_indexes_fn': [],\n",
    "    'before_no_indexes_fp': [],\n",
    "    'before_no_indexes_tn': [],\n",
    "    'after_1_no_tp': [],\n",
    "    'after_1_no_fn': [],\n",
    "    'after_1_no_fp': [],\n",
    "    'after_1_no_tn': [],\n",
    "    'after_2_3_no_tp': [],\n",
    "    'after_2_3_no_fn': [],\n",
    "    'after_2_3_no_fp': [],\n",
    "    'after_2_3_no_tn': [],\n",
    "    'are_not_tp': [],\n",
    "    'are_not_fn': [],\n",
    "    'are_not_fp': [],\n",
    "    'are_not_tn': []\n",
    "}\n",
    "\n",
    "overall_predicted = []\n",
    "overall_real = []\n",
    "\n",
    "# Для каждого предложения считаем метрики\n",
    "for (i, predicted) in tqdm(zip(range(len(predicted_values)), predicted_values)):\n",
    "\n",
    "    predicted_final = []\n",
    "\n",
    "    for value in predicted:\n",
    "        if value[0] > POSITIVE_ANSWER_THRESHOLD:\n",
    "            predicted_final.append([1., 0.])\n",
    "        else:\n",
    "            predicted_final.append([0., 1.])\n",
    "\n",
    "    real_final = targets[i].tolist()\n",
    "\n",
    "    real_length = len(real_final)\n",
    "\n",
    "    if real_length > 0:\n",
    "\n",
    "        words = texts[test_start + i].split(\" | \")[:-1][:MAX_SEQ_LENGTH]\n",
    "\n",
    "        predicted = np.array(predicted_final)[:, 0][:len(words)]\n",
    "        real = np.array(real_final)[:, 0][:len(words)]\n",
    "\n",
    "        overall_predicted.extend(predicted)\n",
    "        overall_real.extend(real)\n",
    "\n",
    "        # Сохраним номера предложений ответами в разных отдельных случаях\n",
    "        if \"не\" in words:\n",
    "\n",
    "            index_of_no = words.index(\"не\")\n",
    "\n",
    "            try:\n",
    "                # Сразу после \"не\"\n",
    "                if real[index_of_no + 1] == 1:\n",
    "                    if predicted[index_of_no + 1] == 1:\n",
    "                        cases_dict['after_no_indexes_tp'].append(test_start + i)\n",
    "                    else:\n",
    "                        cases_dict['after_no_indexes_fn'].append(test_start + i)\n",
    "                else:\n",
    "                    if predicted[index_of_no + 1] == 1:\n",
    "                        cases_dict['after_no_indexes_fp'].append(test_start + i)\n",
    "                    else:\n",
    "                        cases_dict['after_no_indexes_tn'].append(test_start + i)\n",
    "\n",
    "                # Сразу перед \"не\"\n",
    "                if real[index_of_no - 1] == 1:\n",
    "                    if predicted[index_of_no - 1] == 1:\n",
    "                        cases_dict['before_no_indexes_tp'].append(test_start + i)\n",
    "                    else:\n",
    "                        cases_dict['before_no_indexes_fn'].append(test_start + i)\n",
    "                else:\n",
    "                    if predicted[index_of_no - 1] == 1:\n",
    "                        cases_dict['before_no_indexes_fp'].append(test_start + i)\n",
    "                    else:\n",
    "                        cases_dict['before_no_indexes_tn'].append(test_start + i)\n",
    "\n",
    "                # Через 1 после \"не\"\n",
    "                if real[index_of_no + 2] == 1:\n",
    "                    if predicted[index_of_no + 2] == 1:\n",
    "                        cases_dict['after_1_no_tp'].append(test_start + i)\n",
    "                    else:\n",
    "                        cases_dict['after_1_no_fn'].append(test_start + i)\n",
    "                else:\n",
    "                    if predicted[index_of_no + 2] == 1:\n",
    "                        cases_dict['after_1_no_fp'].append(test_start + i)\n",
    "                    else:\n",
    "                        cases_dict['after_1_no_tn'].append(test_start + i)\n",
    "\n",
    "                # Через 2 или 3 после \"не\"\n",
    "                if real[index_of_no + 3] == 1:\n",
    "                    if predicted[index_of_no + 3] == 1:\n",
    "                        cases_dict['after_2_3_no_tp'].append(test_start + i)\n",
    "                    else:\n",
    "                        cases_dict['after_2_3_no_fn'].append(test_start + i)\n",
    "\n",
    "                else:\n",
    "                    if predicted[index_of_no + 3] == 1:\n",
    "                        cases_dict['after_2_3_no_fp'].append(test_start + i)\n",
    "                    else:\n",
    "                        cases_dict['after_2_3_no_tn'].append(test_start + i)                  \n",
    "\n",
    "                if real[index_of_no + 4] == 1:\n",
    "                    if predicted[index_of_no + 4] == 1:\n",
    "                        cases_dict['after_2_3_no_tp'].append(test_start + i)\n",
    "                    else:\n",
    "                        cases_dict['after_2_3_no_fn'].append(test_start + i)\n",
    "                else:\n",
    "                    if predicted[index_of_no + 4] == 1:\n",
    "                        cases_dict['after_2_3_no_fp'].append(test_start + i)\n",
    "                    else:\n",
    "                        cases_dict['after_2_3_no_tn'].append(test_start + i)\n",
    "\n",
    "            except IndexError:\n",
    "                pass\n",
    "\n",
    "        # \"Нет\"\n",
    "        if \" нет \" in texts[test_start + i]:\n",
    "            words = texts[test_start + i].split(\" | \")[:MAX_SEQ_LENGTH]\n",
    "            index_of_not = words.index(\"нет\")\n",
    "\n",
    "            try:\n",
    "                if real[index_of_not] == 1:\n",
    "                    if predicted[index_of_not] == 1:\n",
    "                        cases_dict['are_not_tp'].append(test_start + i)\n",
    "                    else:\n",
    "                        cases_dict['are_not_fn'].append(test_start + i)\n",
    "\n",
    "            except IndexError:\n",
    "                pass\n",
    "\n",
    "        # Сохраним номера предложений, для которых предсказанное и реальное значение не совпали\n",
    "        if not np.array_equal(predicted, real):\n",
    "            error_sentences_indexes.append(test_start + i)"
   ]
  },
  {
   "cell_type": "code",
   "execution_count": 303,
   "metadata": {
    "collapsed": false
   },
   "outputs": [
    {
     "name": "stdout",
     "output_type": "stream",
     "text": [
      "Presicion: 0.9578997919001121, Recall: 0.9504447268106735, F-score: 0.9541576975205295\n"
     ]
    }
   ],
   "source": [
    "print(\"Presicion: {}, Recall: {}, F-score: {}\".format(precision_score(overall_real, overall_predicted, average='binary'), \n",
    "                                                      recall_score(overall_real, overall_predicted, average='binary'), \n",
    "                                                      f1_score(overall_real, overall_predicted, average='binary')))"
   ]
  },
  {
   "cell_type": "code",
   "execution_count": 283,
   "metadata": {
    "collapsed": false
   },
   "outputs": [
    {
     "name": "stdout",
     "output_type": "stream",
     "text": [
      "after_no_indexes_tp: 4946\n",
      "after_no_indexes_fn: 63\n",
      "after_no_indexes_fp: 162\n",
      "after_no_indexes_tn: 287\n",
      "before_no_indexes_tp: 22\n",
      "before_no_indexes_fn: 31\n",
      "before_no_indexes_fp: 8\n",
      "before_no_indexes_tn: 5397\n",
      "after_1_no_tp: 199\n",
      "after_1_no_fn: 58\n",
      "after_1_no_fp: 57\n",
      "after_1_no_tn: 4653\n",
      "after_2_3_no_tp: 57\n",
      "after_2_3_no_fn: 28\n",
      "after_2_3_no_fp: 11\n",
      "after_2_3_no_tn: 9025\n",
      "are_not_tp: 218\n",
      "are_not_fn: 10\n",
      "are_not_fp: 0\n",
      "are_not_tn: 0\n"
     ]
    }
   ],
   "source": [
    "for key in cases_dict.keys():\n",
    "    print(\"{}: {}\".format(key, len(cases_dict[key])))"
   ]
  },
  {
   "cell_type": "code",
   "execution_count": 284,
   "metadata": {
    "collapsed": false
   },
   "outputs": [
    {
     "name": "stdout",
     "output_type": "stream",
     "text": [
      "after_no_indexes_tn: precision 0.9682850430696947, recall 0.9874226392493511, f-score 0.9777602055945438\n",
      "before_no_indexes_tn: precision 0.7333333333333333, recall 0.41509433962264153, f-score 0.5301204819277109\n",
      "after_1_no_tn: precision 0.77734375, recall 0.77431906614786, f-score 0.7758284600389864\n",
      "after_2_3_no_tn: precision 0.8382352941176471, recall 0.6705882352941176, f-score 0.7450980392156863\n",
      "are_not_tn: precision 1.0, recall 0.956140350877193, f-score 0.9775784753363228\n"
     ]
    }
   ],
   "source": [
    "i = 0\n",
    "values = []\n",
    "\n",
    "for key in cases_dict.keys():\n",
    "    if i == 3:\n",
    "        precision = values[0] / (values[0] + values[2])\n",
    "        recall = values[0] / (values[0] + values[1])\n",
    "        f_measure = 2 * precision * recall / (precision + recall)\n",
    "        values = []\n",
    "        i = 0\n",
    "        print(\"{}: precision {}, recall {}, f-score {}\".format(key, precision, recall, f_measure))\n",
    "    else:\n",
    "        i += 1\n",
    "        values.append(len(cases_dict[key]))"
   ]
  },
  {
   "cell_type": "markdown",
   "metadata": {},
   "source": [
    "## Baseline"
   ]
  },
  {
   "cell_type": "code",
   "execution_count": 43,
   "metadata": {
    "collapsed": true
   },
   "outputs": [],
   "source": [
    "morph = pymorphy2.MorphAnalyzer()"
   ]
  },
  {
   "cell_type": "code",
   "execution_count": 44,
   "metadata": {
    "collapsed": true
   },
   "outputs": [],
   "source": [
    "# Настройки бейзлайна\n",
    "\n",
    "LEMMAS_TO_EXCLUDE = ['быть']  # Леммы слов, которые надо выкинуть\n",
    "POS_TO_EXCLUDE = ['PREP']  # Части речи, которые надо выкинуть"
   ]
  },
  {
   "cell_type": "code",
   "execution_count": 45,
   "metadata": {
    "collapsed": false
   },
   "outputs": [
    {
     "data": {
      "text/plain": [
       "(65051, 30, 2)"
      ]
     },
     "execution_count": 45,
     "metadata": {},
     "output_type": "execute_result"
    }
   ],
   "source": [
    "predicted_values.shape"
   ]
  },
  {
   "cell_type": "code",
   "execution_count": 46,
   "metadata": {
    "collapsed": true
   },
   "outputs": [],
   "source": [
    "'''\n",
    "Baseline-решение\n",
    "Считаем, что если слово находится сразу после \"не\" и \"нет\", то оно лежит в нашем negation scope\n",
    "'''\n",
    "\n",
    "def baseline(start_index=0):\n",
    "    \n",
    "    is_prev_cue = False\n",
    "    tp, fp, tn, fn = 0, 0, 0, 0\n",
    "    \n",
    "    overall_labeled = 0\n",
    "    \n",
    "    # Контексты неудавшихся примеров\n",
    "    fp_context = []\n",
    "    fn_context = []\n",
    "    fp_difference = []\n",
    "    fn_difference = []\n",
    "    \n",
    "    cases_dict_baseline = {\n",
    "        'after_no_indexes_tp': [],\n",
    "        'after_no_indexes_fn': [],\n",
    "        'after_no_indexes_fp': [],\n",
    "        'after_no_indexes_tn': [],\n",
    "        'after_1_no_tp': [],\n",
    "        'after_1_no_fn': [],\n",
    "        'after_1_no_fp': [],\n",
    "        'after_1_no_tn': [],\n",
    "        'after_2_3_no_tp': [],\n",
    "        'after_2_3_no_fn': [],\n",
    "        'after_2_3_no_fp': [],\n",
    "        'after_2_3_no_tn': [],\n",
    "        'are_not_tp': [],\n",
    "        'are_not_fn': [],\n",
    "        'are_not_fp': [],\n",
    "        'are_not_tn': []\n",
    "    }\n",
    "    \n",
    "    for (i, sentence) in zip(range(len(texts[start_index:])), texts[start_index:]):\n",
    "        \n",
    "        sentence = sentence.split(\" | \")[:-1][:MAX_SEQ_LENGTH]\n",
    "        excluded_count = 0\n",
    "        \n",
    "        for (word_ind, word) in zip(range(len(sentence)), sentence):\n",
    "            \n",
    "            if (word.lower() == 'не'):\n",
    "                is_prev_cue = True\n",
    "                continue\n",
    "\n",
    "            # Разбираем случаи\n",
    "            if is_prev_cue or word.lower() == 'нет':\n",
    "\n",
    "                # Проверяем, не нужно ли выкинуть слово\n",
    "                if (morph.parse(word)[0].normal_form in LEMMAS_TO_EXCLUDE):\n",
    "                    excluded_count += 1\n",
    "                    continue\n",
    "\n",
    "                # Проверяем часть речи\n",
    "                if (morph.parse(word)[0].tag.POS in POS_TO_EXCLUDE):\n",
    "                    excluded_count += 1\n",
    "                    continue\n",
    "\n",
    "                if (targets[i][word_ind][0] == 0):\n",
    "                    fp += 1\n",
    "                    fp_context.append(sentence)\n",
    "                    \n",
    "                    # Если сетка в этом случае ответила правильно, записываем\n",
    "                    if start_index + i not in error_sentences_indexes:\n",
    "                        \n",
    "                        net_answer = predicted_values[i]\n",
    "                        output = \"\"\n",
    "                        \n",
    "                        for (out_word_ind, output_word) in zip(range(len(sentence)), sentence):\n",
    "        \n",
    "                            if output_word == \"\":\n",
    "                                continue\n",
    "\n",
    "                            if net_answer[out_word_ind][1] < POSITIVE_ANSWER_THRESHOLD and targets[i][out_word_ind][0] == 1:\n",
    "                                output += \"***\" + output_word + \"*** \"\n",
    "                                continue\n",
    "\n",
    "                            if net_answer[out_word_ind][1] < POSITIVE_ANSWER_THRESHOLD:\n",
    "                                output += \"**\" + output_word + \"** \"\n",
    "                                continue\n",
    "\n",
    "                            if targets[i][out_word_ind][0] == 1:\n",
    "                                output += \"*\" + output_word + \"* \"\n",
    "                                continue\n",
    "\n",
    "                            output += output_word + \" \"\n",
    "                        \n",
    "                        fp_difference.append(output)\n",
    "                    \n",
    "                    # Сохраняем номера предложений в различных случаях\n",
    "                    if excluded_count == 0:\n",
    "                        cases_dict_baseline['after_no_indexes_fp'].append(test_start + i)\n",
    "                    \n",
    "                    if excluded_count == 1:\n",
    "                        cases_dict_baseline['after_1_no_fp'].append(test_start + i)\n",
    "                    \n",
    "                    if excluded_count == 2 or excluded_count == 3:\n",
    "                        cases_dict_baseline['after_2_3_no_fp'].append(test_start + i)\n",
    "                        \n",
    "                    if word.lower() == 'нет':\n",
    "                        cases_dict_baseline['are_not_fp'].append(test_start + i)\n",
    "                    \n",
    "                else:\n",
    "                    tp += 1\n",
    "                    overall_labeled += 1\n",
    "                    \n",
    "                    # Сохраняем номера предложений в различных случаях\n",
    "                    if excluded_count == 0:\n",
    "                        cases_dict_baseline['after_no_indexes_tp'].append(test_start + i)\n",
    "                    \n",
    "                    if excluded_count == 1:\n",
    "                        cases_dict_baseline['after_1_no_tp'].append(test_start + i)\n",
    "                    \n",
    "                    if excluded_count == 2 or excluded_count == 3:\n",
    "                        cases_dict_baseline['after_2_3_no_tp'].append(test_start + i)\n",
    "                        \n",
    "                    if word.lower() == 'нет':\n",
    "                        cases_dict_baseline['are_not_tp'].append(test_start + i)\n",
    "                    \n",
    "                    \n",
    "            else:\n",
    "                if (targets[i][word_ind][0] == 0):\n",
    "                    tn += 1\n",
    "                    \n",
    "                    # Сохраняем номера предложений в различных случаях\n",
    "                    if excluded_count == 0:\n",
    "                        cases_dict_baseline['after_no_indexes_tn'].append(test_start + i)\n",
    "                    \n",
    "                    if excluded_count == 1:\n",
    "                        cases_dict_baseline['after_1_no_tn'].append(test_start + i)\n",
    "                    \n",
    "                    if excluded_count == 2 or excluded_count == 3:\n",
    "                        cases_dict_baseline['after_2_3_no_tn'].append(test_start + i)\n",
    "                        \n",
    "                    if word.lower() == 'нет':\n",
    "                        cases_dict_baseline['are_not_tn'].append(test_start + i)\n",
    "                        \n",
    "                else:\n",
    "                    fn += 1\n",
    "                    overall_labeled += 1\n",
    "                    \n",
    "                    # Сохраняем номера предложений в различных случаях\n",
    "                    if excluded_count == 0:\n",
    "                        cases_dict_baseline['after_no_indexes_fn'].append(test_start + i)\n",
    "                    \n",
    "                    if excluded_count == 1:\n",
    "                        cases_dict_baseline['after_1_no_fn'].append(test_start + i)\n",
    "                    \n",
    "                    if excluded_count == 2 or excluded_count == 3:\n",
    "                        cases_dict_baseline['after_2_3_no_fn'].append(test_start + i)\n",
    "                        \n",
    "                    if word.lower() == 'нет':\n",
    "                        cases_dict_baseline['are_not_fn'].append(test_start + i)\n",
    "                        \n",
    "                    fn_context.append(sentence)\n",
    "                    \n",
    "                    # Если сетка в этом случае ответила правильно, записываем\n",
    "                    if start_index + i not in error_sentences_indexes:\n",
    "                        \n",
    "                        net_answer = predicted_values[i]\n",
    "                        output = \"\"\n",
    "                        \n",
    "                        for (out_word_ind, output_word) in zip(range(len(sentence)), sentence):\n",
    "        \n",
    "                            if output_word == \"\":\n",
    "                                continue\n",
    "\n",
    "                            if net_answer[out_word_ind][1] < POSITIVE_ANSWER_THRESHOLD and targets[i][out_word_ind][0] == 1:\n",
    "                                output += \"***\" + output_word + \"*** \"\n",
    "                                continue\n",
    "\n",
    "                            if net_answer[out_word_ind][1] < POSITIVE_ANSWER_THRESHOLD:\n",
    "                                output += \"**\" + output_word + \"** \"\n",
    "                                continue\n",
    "\n",
    "                            if targets[i][out_word_ind][0] == 1:\n",
    "                                output += \"*\" + output_word + \"* \"\n",
    "                                continue\n",
    "\n",
    "                            output += output_word + \" \"\n",
    "                        \n",
    "                        fn_difference.append(output)\n",
    "\n",
    "            is_prev_cue = False\n",
    "\n",
    "        is_prev_cue = False\n",
    "    \n",
    "    # Считаем метрики\n",
    "    precision = tp / (tp + fp)\n",
    "    recall = tp / (tp + fn)\n",
    "    f_measure = 2 * precision * recall / (precision + recall)\n",
    "    \n",
    "    return precision, recall, f_measure, fp_context, fn_context, fp_difference, fn_difference, \\\n",
    "        cases_dict_baseline, overall_labeled"
   ]
  },
  {
   "cell_type": "code",
   "execution_count": 47,
   "metadata": {
    "collapsed": false
   },
   "outputs": [
    {
     "name": "stdout",
     "output_type": "stream",
     "text": [
      "precision=0.9299293008641005, recall=0.9692156541673489, F-score=0.9491661321359846\n"
     ]
    }
   ],
   "source": [
    "precision, recall, f_measure, fp_context, fn_context, fp_difference, fn_difference, cases_dict_baseline, \\\n",
    "    overall_labeled = baseline(test_start)\n",
    "print(\"precision={}, recall={}, F-score={}\".format(precision, recall, f_measure))"
   ]
  },
  {
   "cell_type": "code",
   "execution_count": 48,
   "metadata": {
    "collapsed": false
   },
   "outputs": [
    {
     "data": {
      "text/plain": [
       "6107"
      ]
     },
     "execution_count": 48,
     "metadata": {},
     "output_type": "execute_result"
    }
   ],
   "source": [
    "overall_labeled"
   ]
  },
  {
   "cell_type": "code",
   "execution_count": 49,
   "metadata": {
    "collapsed": false
   },
   "outputs": [
    {
     "name": "stdout",
     "output_type": "stream",
     "text": [
      "after_no_indexes_tp: 5604\n",
      "after_no_indexes_fn: 139\n",
      "after_no_indexes_fp: 175\n",
      "after_no_indexes_tn: 805159\n",
      "after_1_no_tp: 307\n",
      "after_1_no_fn: 48\n",
      "after_1_no_fp: 245\n",
      "after_1_no_tn: 4144\n",
      "after_2_3_no_tp: 8\n",
      "after_2_3_no_fn: 1\n",
      "after_2_3_no_fp: 26\n",
      "after_2_3_no_tn: 229\n",
      "are_not_tp: 245\n",
      "are_not_fn: 0\n",
      "are_not_fp: 34\n",
      "are_not_tn: 0\n"
     ]
    }
   ],
   "source": [
    "for key in cases_dict_baseline.keys():\n",
    "    print(\"{}: {}\".format(key, len(cases_dict_baseline[key])))"
   ]
  },
  {
   "cell_type": "code",
   "execution_count": 50,
   "metadata": {
    "collapsed": false
   },
   "outputs": [
    {
     "name": "stdout",
     "output_type": "stream",
     "text": [
      "after_no_indexes_tn: precision 0.9697179442810174, recall 0.9757966219745777, f-score 0.9727477868425621\n",
      "after_1_no_tn: precision 0.5561594202898551, recall 0.8647887323943662, f-score 0.6769570011025358\n",
      "after_2_3_no_tn: precision 0.23529411764705882, recall 0.8888888888888888, f-score 0.3720930232558139\n",
      "are_not_tn: precision 0.8781362007168458, recall 1.0, f-score 0.9351145038167938\n"
     ]
    }
   ],
   "source": [
    "i = 0\n",
    "values = []\n",
    "\n",
    "for key in cases_dict_baseline.keys():\n",
    "    if i == 3:\n",
    "        precision = values[0] / (values[0] + values[2])\n",
    "        recall = values[0] / (values[0] + values[1])\n",
    "        f_measure = 2 * precision * recall / (precision + recall)\n",
    "        values = []\n",
    "        i = 0\n",
    "        print(\"{}: precision {}, recall {}, f-score {}\".format(key, precision, recall, f_measure))\n",
    "    else:\n",
    "        i += 1\n",
    "        values.append(len(cases_dict_baseline[key]))"
   ]
  },
  {
   "cell_type": "code",
   "execution_count": 51,
   "metadata": {
    "collapsed": false
   },
   "outputs": [
    {
     "data": {
      "text/plain": [
       "['***значит*** что мы рекомендуем массовое банкротство достаточно одного прецедента чтобы директора поняли что надо платить по счетам сказал Уиллоби По его словам проблема не ***возврата*** кредитов стала одной из самых ',\n",
       " '***менее*** дней ',\n",
       " 'Процентные ставки по валютным вкладам ***пересматриваться*** не будут сказал представитель Нац банка ',\n",
       " 'МОСКВА июн Рейтер Аукцион по продаже процентов плюс одной акции АО Связьинвест на нынешней неделе ***объявлен*** не будет сказала Рейтер пресс-секретарь вице премьера председателя ГКИ РФ Виктория Вергельская ',\n",
       " 'а потом подключились продавцы и началась продажа которая была не по всему ***рынку*** достаточно рваная Возможно это связано с прибалтийскими банками корсчета которых в петербургских банках арестованы налоговой полицией сказал ',\n",
       " 'Российская сторона в свою очередь предлагала им участие в приватизации Таганрогского морского порта однако договоренности ***достигнуто*** не было из-за того что этот порт недавно пострадал в результате шторма ',\n",
       " 'Кириенко сказал на пресс конференции после засседания правительства что если вопрос о вхождении Иркутскэнерго в единую энергосистему ***решен*** не будет то компания потеряет возможность экспортировать энергию ',\n",
       " 'Не один ***год*** он был на одном из самых тяжелых и неблагодарных постов ',\n",
       " 'Наибольшие трудности для регистратора представляет обслуживание реестров предприятий чьи акции в процессе приватизации размещались на всероссийских аукционах так как информация о победителях аукционов направлялась фондами имуществ не в полном ***объеме*** И ',\n",
       " 'Если правительство согласится на такое соседство с Чубайсом оно окончательно разоблачит себя перед народом и запятнает позором Ни одно указание Чубайса где бы он ни работал мы ***выполнять*** не будем ']"
      ]
     },
     "execution_count": 51,
     "metadata": {},
     "output_type": "execute_result"
    }
   ],
   "source": [
    "# не после \"не\", размечено, нейронка ответила правильно\n",
    "fn_difference[:10]"
   ]
  },
  {
   "cell_type": "code",
   "execution_count": 52,
   "metadata": {
    "collapsed": false
   },
   "outputs": [
    {
     "data": {
      "text/plain": [
       "['длинные бумаги что их можно взять только для диверсификации портфеля ценных бумаг Я думаю что в ближайшее время не ***будет*** больших эмиссий этих бумаг как в свое время было с ',\n",
       " 'У украинских банков не ***было*** столько долларов это выставлялись деньги нерезидентов и курс ушел а сегодня все возвращается обратно сказал Тимофеев ',\n",
       " 'Вечером реальный рынок немного присел соответственно и фьючерс немного упал Может быть это снижение цен в РТС связано с тем что не ***было*** западных заказов сказал Александр Кареевский из компании Индекс ',\n",
       " 'По его словам у ЗиЛа не ***было*** прибыли и в году ',\n",
       " 'Это был рискованный шаг потому что как я думаю у Минфина не ***было*** сто процентной уверенности что он сможет взять эти деньги на торговой сессии сказал Орехов ',\n",
       " 'Победы ОНЭКСИМа ожидал весь рынок это ни для кого не ***было*** секретом Рынок уже оценил эту новость и по сути дела это никак не ***отразилось*** на рынке А дальше рынок акций РАО ',\n",
       " 'Однако по мнению Лабовского предстоящее сентября внеочередное собрание ационеров может не принять решение о дополнительной эмиссии поскольку ОНЭКСИМ Банк после победы на конкурсе не ***заинтересован*** в сбивании цены на акции ',\n",
       " 'НК ЛУКойл сообщила что не ***намерена*** осуществлять выпуск еврооблигаций до тех пор пока не будет проведен международный аудит отчетности компании к концу года или началу года ',\n",
       " 'уставного капитала по ценам размещения не ***ниже*** рублевого эквивалента за одну акцию ',\n",
       " 'СЕГОДНЯ по мнению участников рынка ГКО-ОФЗ аукционы годового выпуска ГКО и ОФЗ ПД пройдут без сюрпризов доходность сложится по рынку в противном случае размер премии не ***будет*** выше процентных ',\n",
       " 'По словам дилеров результаты аукциона дополнительного транша менее ликвидного выпуска ОФЗ ПД могут быть не показательными для рынка ',\n",
       " 'В течение трёх месяцев определимся с возможностью выпуска облигаций если решим то выпустим быстро с этим то проблем не ***будет*** сказал он ',\n",
       " 'Пока не будет отработан механизм погашения иностранных займов практика оседания кредитных средств в карманах отдельных казахстанцев будет продолжаться считает газета ',\n",
       " 'Первоначально была приведена выручка от доразмещения четырех выпусков ГКО не ***включая*** выручку от продажи облигаций РАО ВСМ ',\n",
       " 'и направлена на упрочение позиций российской валюты улучшение жизни граждан соблюдение интересов населения и государства при не допущении какого-либо ущерба населению ',\n",
       " 'и в этом году обычно цены растут и смысла продавать не ***будет*** Поэтому в какую сторону двинется рынок сказать сложно сказал Литвинов ',\n",
       " 'Активных пред аукционных продаж скорее всего не ***будет*** так как ажиотажного спроса на размещаемые налогооблагаемые выпуски уже ***нет*** ',\n",
       " 'статье приводится мнение президента УСПП Анатолия Кинаха и группы аналитиков о том что денежной политики как таковой продуманной взвешенной учитывающей интересы производства и бюджета не ***было*** Статья опубликована в одной ',\n",
       " 'По мнению Данияра Амангельдина из больших инвест орских заказов на покупку трех месячных ГКО что снижало доходность на единственном аукционе ГКО на следующей неделе не ***будет*** а к кратко срочным ',\n",
       " 'Нас обвиняют в уклонении от уплаты налогов в сумме миллиардов рублей Но банку не ***было*** нужды уклоняться от уплаты налогов на такую сумму НРБ официально уплатил за прошлый год налогов ',\n",
       " 'Как говорится в документе особый порядок определения ставок необходим для того чтобы сбережения граждан надежно были защищены от инфляции приносили доход не ***ниже*** чем в других ведущих банках России ',\n",
       " 'Процентные ставки по валютным вкладам ***пересматриваться*** не будут сказал представитель Нац банка ',\n",
       " 'Мы вас теребили когда вы были в отпуске Я сказал нет ',\n",
       " 'Честно говоря у меня даже язык не ***повернется*** сейчас настаивать нет Борис Николаевич вы меня примите я должен вам доложить Справляемся сами стараемся справляться сами добавил Чубайс Эта последняя фраза ',\n",
       " 'По словам председателя Нац банка половина денежных потоков связанных с выплатами просроченной задолженности по пенсиям будет направлена в сельские районы где очень долго не ***было*** денег ',\n",
       " 'МОСКВА июн Рейтер Аукцион по продаже процентов плюс одной акции АО Связьинвест на нынешней неделе ***объявлен*** не будет сказала Рейтер пресс-секретарь вице премьера председателя ГКИ РФ Виктория Вергельская ',\n",
       " 'Спроса пока не ***было*** сказал он ',\n",
       " 'а потом подключились продавцы и началась продажа которая была не по всему ***рынку*** достаточно рваная Возможно это связано с прибалтийскими банками корсчета которых в петербургских банках арестованы налоговой полицией сказал ',\n",
       " 'Говорить о прогнозах во многих банка избегают ведь выпускать ноты или нет решает Нац банк ',\n",
       " 'Мы вас теребили когда вы были в отпуске Я сказал нет ',\n",
       " 'Честно говоря у меня даже язык не ***повернется*** сейчас настаивать нет Борис Николаевич вы меня примите я должен вам доложить Справляемся сами стараемся справляться сами добавил Чубайс ',\n",
       " 'Бидов с Запада особенных не ***будет*** пока не выяснится окончательно что с президентом сказал Абдурахимов ',\n",
       " 'Бидов с Запада особенных не ***будет*** пока не выяснится окончательно что с президентом сказал Абдурахимов ',\n",
       " 'Будет выпущено миллиона акций номиналом рублей которые будут распределяться по закрытой подписке и миллиона акций номиналом рублей для размещения по цене не ***ниже*** сообщает АК&M ',\n",
       " 'На остальную сумму планируемого увеличения уставного капитала предполагается выпустить акции и выставить на инвестиционный конкурс по цене не ***ниже*** номинала ',\n",
       " 'Сдержанная политика означает что мы будем эмитировать меньше рублей То есть мы ожидаем что у Минфина не ***будет*** таких больших валютных поступлений и денежная политика будет больше определяться нашими шагами нежели ',\n",
       " 'Ельцин сказал что никаких ограничений на обмен денег не ***будет*** и что реформа не ***нанесет*** ущерба простым людям ',\n",
       " 'мы сегодня заявляем инфляции больше не ***будет*** С ней покончено Новые нули на наших купюрах больше не ***появятся*** никогда ',\n",
       " 'Это рабочая ситуация значит у дилеров не ***было*** на сегодня потребности в этих бумагах сказала она ',\n",
       " 'Российская сторона в свою очередь предлагала им участие в приватизации Таганрогского морского порта однако договоренности ***достигнуто*** не было из-за того что этот порт недавно пострадал в результате шторма ',\n",
       " 'Представитель НК ЛУКойл сказал что пока после заявления Роснефти о выходе из Кяпаза не ***было*** по его данным официальных контактов между руководством НК ЛУКойл и Государственной Нефтяной Компании Азербайджанской Республики ',\n",
       " 'Кириенко сказал на пресс конференции после засседания правительства что если вопрос о вхождении Иркутскэнерго в единую энергосистему ***решен*** не будет то компания потеряет возможность экспортировать энергию ',\n",
       " 'миллионов миллионов которые казались совершенно немыслимыми при исходной приватизации Совершенно ясно что без залоговых аукционов года назад не ***было*** бы сегодня тех продаж которые дают нам триллионов ',\n",
       " 'Не один ***год*** он был на одном из самых тяжелых и неблагодарных постов ',\n",
       " 'Наибольшие трудности для регистратора представляет обслуживание реестров предприятий чьи акции в процессе приватизации размещались на всероссийских аукционах так как информация о победителях аукционов направлялась фондами имуществ не в полном ***объеме*** И ',\n",
       " 'Если к аукциону с налогами инструкцией по налогообложению ничего ясно не ***будет*** то доходность будет процента В любом случае нас ждет тяжкое преодоление уровней и процента и уже ',\n",
       " 'Он дал понять что дата проведения операции Ельцину может быть не ***объявлена*** заранее добавив что решение о том объявлять дату или нет будут принимать врачи семья президента и разумеется сам президент ',\n",
       " 'Цены начали падать Все надеялись на активный нерезидентский спрос но его не ***было*** Я не ***думаю*** что спад рынка будет долговременным и значительным Возможно повлияет новое размещение акций Газпрома Хотя ',\n",
       " 'Губернатор области сожалеет что у нас не ***будет*** коалиционного правительства В году производство промышленно продукции в области снизилось на процента ',\n",
       " 'Некоторые усматривают в происходящем политическую подоплёку стр. ФКЦБ преподала ПИФам рождественский урок стр. Продажа акций Тюменской нефтяной компании может не состояться ',\n",
       " 'По мнению дилеров завтра активной продажи под аукцион не ***будет*** но и значительного роста цен ждать не ***стоит*** ',\n",
       " 'В принципе особого интереса к торгам не ***было*** резюмировал сегодняшнюю ситуацию дилер АТФБ ',\n",
       " 'Дивиденд по обыкновенным акциям планируется не ***ниже*** года рублей с учетом инфляции ',\n",
       " 'не ***будет*** сказал он ',\n",
       " 'Статья Конституции Украины определяет что Кабинет Министров Украины отставка которого принята президентом по его поручению продолжает исполнять свои обязанности до начала работы вновь сформированного Кабинета но не более ***дней*** ',\n",
       " 'Старый бюджет одобренный согласительной комиссией мы ***принимать*** не будем Это я сегодня ясно и четко сказал премьеру сказал журналистам Зюганов после своей встречи в четверг с премьер-министром Виктором Черномырдиным ',\n",
       " 'По Конституции если Дума большинством голосов выражает недоверие правительству президент может не согласиться с этим решением ',\n",
       " 'На остальную сумму планируемого увеличения уставного капитала предполагается выпустить акции и выставить на инвестиционный конкурс по цене не ***ниже*** номинала ',\n",
       " 'Цена для оптовой продажи будет не ***ниже*** рублей за бутылку емкостью литра со стоимостью посуды сказал Ярмош ',\n",
       " 'Мы торгуем по ценам не ***ниже*** чем в Альфа-банке Авто банке или Российском Кредите По условиям договора с Минфином мы должны были получить облигации в типографии Гознака через два дня ',\n",
       " 'Надеюсь что мои коллеги и друзья по правительству не ***будут*** в претензии ко мне Тем более, что уже сейчас можно сказать что годовое задание по доходам от приватизации будет перевыполнено говорится в ',\n",
       " 'Дивиденды по обыкновенным акциям ***выплачиваться*** не будут сказал журналистам сегодня после собрания акционеров первый исполнительный вице президент банка Андрей Астахов ',\n",
       " 'Дивиденды по обыкновенным акциям ***выплачиваться*** не будут сказал журналистам сегодня после собрания акционеров первый исполнительный вице президент банка Андрей Астахов ',\n",
       " 'Никакому жулью мы не ***позволим*** руководить особенно в банках Никакого исскусственного нагнетания колебаний курса не ***будет*** сказал Лукашенко ',\n",
       " 'Магаданрыбпром ФИ Магаданской обл. Шахтинский ма- Ростовской Спец. шино строитель обл. аукцион ный завод Еренгойнефте ФИ Ямало Не Аукцион газгеология нецкого АО Курский коже ФИ ',\n",
       " 'По словам представителя информационно аналитического отдела биржи сделок по контрактам пока не ***было*** а цена спроса предложения сохраняется в течение последних двух часов на уровне за контракт ',\n",
       " 'Но страна не эквилибрист чтобы балансировать на одной пусть и крепкой опоре стр. Итоги годового общего собрания акционеров РАО Газпром прошедшего в субботу ',\n",
       " 'Из его слов не ***было*** ясно идет ли речь только о частных вкладах или и о вкладах юридических лиц ',\n",
       " 'Либерализация валютного рынка может быть произведена в максимально короткие сроки При этом скачка инфляции не ***будет*** сказал начальник валютного управления Нац банка Владимир Лузгин ',\n",
       " 'бы этот круг ни назывался а не с любыми ***банками*** ',\n",
       " 'Из его слов не ***было*** понятно отказалась ли компания от двух заявленных НК ЮКОС дополнительных эмиссий на миллионов каждая в соответствии с указом президента России о мерах по ликвидации задолженности ',\n",
       " 'Официально полномочия Ющенко истекли января однако по мнению Пинзеника принимать формальное постановление о продлении его полномочий не ***было*** необходимости ',\n",
       " 'Он сказал что ЦБР будет предпринимать усилия по снижению процентной ставки по кредитам в банковской системе однако не ***путем*** снижения учетной ставки Центробанка ',\n",
       " 'Украинская сторона предлагала подписать на встрече протокол однако единства в подходах не ***было*** и мы решили ограничиться обменом мнений сказал Пинзеник характеризуя ход переговоров ',\n",
       " 'Телевизионную и журналистскую общественность будоражит вот уже с конца прошлой недели когда в прессе появилась очередная серия публикаций на давно и хорошо знакомую тему собираются ли приватизировать ВГТРК или нет ',\n",
       " 'Митюков сказал что Украины расчитывает на рейтинг по крайней мере не ***ниже*** чем у России ',\n",
       " 'Это пока Думаю такая ситуация на рынке голубых фишек сохранится до тех пор пока какое-то событие резко не толкнет его в какую-либо сторону Я ожидаю любого направления движения сказал Мартыненко ',\n",
       " 'и направлена на упрочение позиций российской валюты улучшение жизни граждан соблюдение интересов населения и государства при не допущении какого-либо ущерба населению ',\n",
       " 'Дивиденд по обыкновенным акциям планируется не ***ниже*** года рублей с учетом инфляции ',\n",
       " 'СУХОГО НАМОЧИЛИ НО ОТЖАТЬ НЕ СМОГЛИ стр. Глава ОКБ Михаил Симонов сохранил свой пост В субботу в АО~XA0 ОКБ Сухого прошло собрание акционеров которое утвердило итоги работы в прошлом году ',\n",
       " 'Денежный зачет идет только по долгам года и объем по денежному зачету заканчивается так как уменьшается задолженность за год На долги года прямого зачета не ***будет*** сказал Починок ',\n",
       " 'Не ***будет*** никакого обмена старых денег на новые ',\n",
       " 'Разменной монетой станет не тысяча а рубль ',\n",
       " 'Эта реформа не ***будет*** конфискацией ',\n",
       " 'Чтобы не ***было*** никакой спешки и никаких волнений ',\n",
       " 'Этого не ***было*** и этого не ***будет*** ',\n",
       " 'В Украине не ***было*** никакой финансовой и бюджетной дисциплины поэтому решение президента справедливое сказал Кравчук Рейтер Он сказал что Украина со времени приобретения независимости не ***имела*** в правительстве настоящего министра ',\n",
       " 'Однако у Евгения Зельцера из банка Украина прямо противоположное мнение Установившаяся доходность уже устраивает не ***всех*** и лавины нерезидентских заявок ***нет*** на ближайшие аукционы у нас к примеру нет Те кто ',\n",
       " 'налогообложения не очень ***привлекательно*** для банков сказал Зельцер ',\n",
       " 'Однако в ходе визита президента Белоруссии Александра Лукашенко на Украину мая среди подписанных документов соглашения о долге не ***было*** Официальные лица Украины не ***высказывались*** об этом как о решенном вопросе ',\n",
       " 'Однако в ходе визита президента Белоруссии Александра Лукашенко на Украину мая среди подписанных документов соглашения о долге не ***было*** Официальные лица Украины не ***высказывались*** об этом как о решенном вопросе ',\n",
       " 'привилегированных акций АО Ленэнерго до с Может быть рынок и не будет ***расти*** без западной поддержки но катастрофического падения не ***будет*** А если и будет понижение то надо ',\n",
       " 'не ***было*** так как для рынка сейчас важней то что произойдет с процентными ставками США сказал дилер одного из банков ',\n",
       " 'По словам представителя собрание приняло решение об изменеиии срока президентских полномочий теперь президент ТНК будет избираться сроком на три года а не на пять как было ранее ',\n",
       " 'Но мы сможем сказать разместили мы акции или нет только июля сказал он ',\n",
       " 'ЛЕНИНГРАДСКАЯ ОБЛАСТЬ Нет данных ',\n",
       " 'Я уверен что никакая новая налоговая база под этот бюджет в апреле ***создана*** не будет и принять бюджет на новой налоговой базе в этом месяце мы не ***сможем*** считает Мусияка ',\n",
       " 'инсайда в сделке по Связьинвесту думаю в ближайшее время новая информация которая так или иначе станет гласной даст вам ответы на все вопросы был инсайд или не ***было*** сказал Гусинский ',\n",
       " 'Но его не ***будет*** С августа АО Приморскуголь снижает отпускную стоимость угля ',\n",
       " 'Дубина шахтерского гнева забастовки не ***прекратятся*** пока горнякам не дадут возможность зарабатывать По мнению автора существует отработанная методика организации и направления шахтерского недовольства в нужное русло стр. ',\n",
       " 'После ажиотажного спроса в понедельник и вторник сегодня это больше будут рабочие вопросы ажиотажа не ***будет*** сказал один из дилеров ',\n",
       " 'На Украинской Межбанковской валютной бирже сегодня как и предыдущие два дня не ***было*** предложения валюты на продажу ',\n",
       " 'По мнению дилеров резкое укрепление гривны на минувшей неделе не ***было*** твердой тенденцией и реальный курс гривны сегодня находится в пределах ',\n",
       " 'С января Госкомстат начал публикацию индекса потребительских цен на ежемесячной а не на еженедельной ***основе*** ',\n",
       " 'Передовые Промышленные поступлогии ению составило мы проверяли второй участник не ***был*** а ффилированной структурой первого Но точно об этом сказать в только антимонопольный комитет сказал Ушаков ',\n",
       " 'В соответствии с майским указом президента о порядке обращения акций РАО Газпром РАО имеет право на преимущественное право приобретения акций продаваемых не через профессиональных ***участников*** рынка ценных бумаг на фондовых ',\n",
       " 'О тарифах Я могу сказать шоковой терапии не ***будет*** Я против шоковой терапии ',\n",
       " 'О руководстве и о себе В стране огромное количество умных людей а когда общаешься с начальниками удивляешься откуда берутся такие придурки Почему так получается что в руководители идут не самые ',\n",
       " 'В России не ***будет*** компании работающей со средствами населения без государственной лицензии сказал Чубайс ',\n",
       " 'дешевле не ***будут*** сказал трейдер Ренессанс Капитал Владимир Чхиквадзе ',\n",
       " 'Решающую роль в сделке сыграл господин Сорос который оптимистично оценил перспективы Связьинвеста Он согласился участвовать в этой сделке не для кратко срочных ***инвестиций*** а не ***менее, чем*** на два года сказал ',\n",
       " 'МОСКВА мая Рейтер Цены голубых фишек незначительно изменились в продолжение начавшейся вчера ценовой коррекции которая по мнению трейдеров не ***будет*** продолжительной так как тенденция роста рынка по-прежнему сохраняется ',\n",
       " 'Наибольшие трудности для регистратора представляет обслуживание реестров предприятий чьи акции в процессе приватизации размещались на всероссийских аукционах так как информация о победителях аукционов направлялась фондами имуществ не в полном ***объеме*** И ',\n",
       " 'Дивиденд по обыкновенным акциям планируется не ***ниже*** года рублей с учетом инфляции ',\n",
       " 'Это пример решения вопроса без необходимого обоснования Объективных причин не ***было*** Это пример хорошего лоббирования частных интересов Следует проанализировать ситуацию сложившуюся после аукционов сказал он ',\n",
       " 'МОСКВА янв Рейтер Ожидаемая коррекция цен длинных выпусков ГКО была вызвана отсутствием горячего после аукционного спроса и ситуация в понедельник вряд ли изменится полагают дилеры Больших продаж не ***было*** но покупка ',\n",
       " 'кризиса в крае может не случиться ',\n",
       " 'Мы должны разделить эту службу и оставить в ведении Нац банка только перевозку ценностей на уровне не ***ниже*** областного управления Нац банка и утилизацию ветхих денег сказал Киреев ',\n",
       " 'Это не ***было*** последствием орбитальной экспедиции или неправильных действий специалистов сказал Ильин ',\n",
       " 'Ельцин сказал что никаких ограничений на обмен денег не ***будет*** и что реформа не ***нанесет*** ущерба простым людям ',\n",
       " 'мы сегодня заявляем инфляции больше не ***будет*** С ней покончено Новые нули на наших купюрах больше не ***появятся*** никогда ',\n",
       " 'НРБ ВЛОЖИЛ ДЕНЬГИ НЕ В ТО МЕСТО стр. Еще одна скандальная история с вывозом денег накануне выборов марта в городской суд американского города Балтимор было подано исковое заявление на ',\n",
       " 'Названий этих банков в тексте послания ***нет*** и не ***будет*** сказал он ',\n",
       " 'В данном пресс дайджесте предлагается обзор сибирских газет и краткое содержание статей на экономические темы Рейтер не ***несет*** ответственности за их содержание ТЮМЕНСКАЯ ПРАВДА Другого новоселья не ***будет*** Администрация Нижневартовска ',\n",
       " 'Ему вторил секретрарь Совета обороны Юрий Батурин Страна которая имеет не один ***космодром*** а два~XA0 дважды космическая держава ',\n",
       " 'Если бы не возникшие ***осложнения*** Западно-Сибирская нефтяная группа по всем показателям могла бы составить конкуренцию ЛУКойлу а по запасам и потенциалу стать безусловным лидером среди российских вертикально интегрированных компаний сказал ',\n",
       " 'Многое зависит от итогов аукциона дневных нот который должен состояться сегодня к МСК времени итоги еще не ***были*** известны сказал один из дилеров ЭксИмбанка ',\n",
       " 'Трейдеры предполагают что рынок будет продолжать понижаться до конца недели пока западные инвесторы не переключат свое внимание на российский рынок ',\n",
       " 'Статья Конституции Украины определяет что Кабинет Министров Украины отставка которого принята президентом по его поручению продолжает исполнять свои обязанности до начала работы вновь сформированного Кабинета но не более ***дней*** ',\n",
       " 'В настоящее время в городах мира действует более подобных телепортов в России до сих не ***было*** ни одного ',\n",
       " 'ПО ИТОГАМ ГОДА ЛУКойл ожидает чистую прибыль триллиона рублей в год триллиона Дивиденд по обыкновенным акциям планируется не ***ниже*** года рублей с учетом инфляции ',\n",
       " 'Ельцин сказал что никаких ограничений на обмен денег не ***будет*** и что реформа не ***нанесет*** ущерба простым людям ',\n",
       " 'мы сегодня заявляем инфляции больше не ***будет*** С ней покончено Новые нули на наших купюрах больше не ***появятся*** никогда ',\n",
       " 'В отношении стран СНГ она отметила некоторую стагнацию развития альянса СНГ и Союза чтырех Россия Беларусь Казахстан Киргизия В альянсе СНГ не ***было*** сильных продвижений вперед сказала она В противоположность ',\n",
       " 'Из компаний решения приняты не по всем мнения экспертов в ряде случаев разошлись Поэтому начало кое каких аукционов придется отодвинуть до уточнения их параметров сказал Игорь Плотников ',\n",
       " 'Он также сказал что новый Налоговый кодекс содержит нормы по защите прав налогоплательщика чего не ***было*** ранее ',\n",
       " 'Думаю в связи с переводом реестра его закрытия не ***будет*** Реестр будет переведен уже в ближайшие дни сказал представитель Олмы ',\n",
       " 'Примечание Для просмотра данных по каждому отльному выпуску из списка необходимо щелкать мышкой по ЦЕНАМ бумаг а НЕ по наименованиям выпусков ',\n",
       " 'Каких-либо медицинских показаний на сегодня говорящих о том что Борис Николаевич не ***сможет*** работать в качестве президента нашей страны нет сказал Миронов ',\n",
       " 'Если цены в Украине и на юге России будут такими низкими как мы прогнозируем то Белоруссия закупит до тысяч тонн зерна как и в текущем году Если нет то ',\n",
       " 'Дивиденд по обыкновенным акциям планируется не ***ниже*** года рублей с учетом инфляции ',\n",
       " 'не на локальные ***события*** а на облигации Казначейства США сказал один из дилеров банка Дойче Морган Гренфелл ',\n",
       " 'квартала Все выглядело так как будто рынок понизится на этой неделе однако на самом деле продавцов не ***было*** Сейчас мы видим новый приток средств мы опять в рынке сказал старший трейдер Петр Киценко ',\n",
       " 'По словам Александра Охрименко из банка Украина у украинских банков на минувшей неделе не ***было*** свободных ресурсов чтобы вкладывать их в гос бумаги а нерезидентов не ***устраивает*** снизившаяся доходность длинных ',\n",
       " 'По мнению дилеров на ближайших аукционах трех месячных бумаг Минфин вынужден будет вернуться к доходности не ***ниже*** процента годовых если Нац банк опять не ***согласится*** повторить сделку подобную заключенной ',\n",
       " 'Дивиденд по обыкновенным акциям планируется не ***ниже*** года рублей с учетом инфляции ',\n",
       " 'В и годах дивиденды по акциям не ***выплачивались*** Не ***будет*** их и в году сказал представитель ОАО ',\n",
       " 'Организаторы займа гарантировали населению доходность облигаций БМЗ не ***ниже*** процентов годовых ',\n",
       " 'кризиса в крае может не случиться ',\n",
       " 'По его словам акции будут продаваться в головном банке в Алма-Ате и филиалах по договорным ценам но не ***ниже*** номинала ',\n",
       " 'августа наши кредиторы заявили что не ***могут*** более ждать возврата процентов общей суммы долгов а у нас ничего не ***было*** за душой чтобы представить реальный план погашения долга сказал ',\n",
       " 'Таким образом можно говорить не о принципиальном ***решении*** проблемы задолженности за энергоносители а про перенос ее из внешнеэкономической сферы во внутреннюю сказал Кучма ',\n",
       " 'НОРСИ ПОКА НЕ БУДУТ БАНКРОТИТЬ стр. Контролирующая завод компания НОРСИ ойл начала рассчитываться с кредиторами Большинство кредиторов НОРСИ согласились с предложенной руководством НОРСИ ойл программой погашения долгов НПЗ ',\n",
       " 'Не Аукцион нецкого АО Губкинский ГПЗ Оренбургский ФИ Оренбург Инвест ',\n",
       " 'Хохолькова уточнила также что вопрос об процентном ограничении при голосовании в Мосэнерго не только был снят с повестки дня собрания акционеров апреля но и не будет больше ***подниматься*** ',\n",
       " 'Фонд гос имущества уверен что в приватизации Укрнефти не ***было*** никаких нарушений как мы заявляли и ранее сказал Ехануров ',\n",
       " 'президента РФ о структуре органов государственной власти от августа Однако с тех пор никаких подзаконных актов не ***выпущено*** не ***было*** сказала Рейтер замначальника юридического отдела Росстрахнадзора Галина Голушко Двадцать девятого ',\n",
       " 'Никаких трений тем паче разногласий в этом тандеме ***нет*** не ***было*** и надеемся не ***будет*** Они три четыре раза в неделю встречаются еще чаще обмениваются мнениями по телефону Между ними ',\n",
       " 'Никаких трений тем паче разногласий в этом тандеме ***нет*** не ***было*** и надеемся не ***будет*** Они три четыре раза в неделю встречаются еще чаще обмениваются мнениями по телефону Между ними ',\n",
       " 'По словам участников рынка первая половина дополнительной сессии по доразмещению ОФЗ с го по й выпуск прошла вяло явного интереса к покупку не ***было*** и только к середине сессии ',\n",
       " 'Госдума также намерена предложить президенту принять меры по запрещению отчуждения контрольного пакета акций пропорциональному его укрупнению процент голосующих акций при повторных эмиссиях и не допущению продажи ОНЭКСИМБанком пакета акций закрепленного ',\n",
       " 'Госдума также намерена предложить президенту принять меры по запрещению отчуждения контрольного пакета акций пропорциональному его укрупнению процент голосующих акций при повторных эмиссиях и не допущению продажи ОНЭКСИМБанком пакета акций закрепленного ',\n",
       " 'ЦБК процентов стартовая цена миллионов ограничений на участие нет Братский ЛПК процента стартовая цена миллионов ограничений на участие ***нет*** ',\n",
       " 'АЛМА-АТА фев Рейтер Доходность по трех месячным ГКО может подняться в марте в связи с тем что она достигла предельно низкого уровня а также в марте не ***будет*** погашения бумаг из-за ',\n",
       " 'Денег которые бы приходили с погашения трех месячных бумаг в марте не ***будет*** то есть появляется пустая ниша но с другой стороны многое будет зависеть от Нац банка который выпускает ти ',\n",
       " 'не ***сообщил*** Межкомбанку о перемене своего решения по сделке Самое главное что не были ***подписаны*** никакие документы не ***было*** никаких росписей Велись только предварительные переговоры о встрече Мало ли что ',\n",
       " 'Заявки на аукцион будут приниматься с августа по сентября а не с августа по сентября как сообщалось ранее ',\n",
       " 'По словам Златкис если инструкция не ***будет*** готова к среде Минфин отменит проведение аукционов и выпусков ГКО февраля и вновь назначит аукционы дополнительных траншей выпусков не ***подлежащих*** налогообложению ',\n",
       " 'По его словам с момента подачи заявления об отставке до сегодняшнего дня у него не ***было*** встреч с премьер-министром ',\n",
       " 'Он назвал еще и Северо-Западное морское пароходство среди предприятий которым подойдет такая схема но из контекста не ***было*** ясно собирается ли он готовить и его к данному заседанию комиссии ',\n",
       " 'По мнению существующго менеджмента СЗП одним из способов выхода пароходства из финансовых затруднений может стать дополнительная эмиссия которая невозможна пока не будет продан заложенный пакет акций ',\n",
       " 'числа ничего нового не ***будет*** все что мы могли отдать мы уже отдали сказал он имея ввиду уступки правительства на согласительной комиссии ',\n",
       " 'Это не ***будет*** московская тусовка Хотя часть бывших министров и вице премьеров войдет в состав нового кабинета будет и много новых людей цитирует Интерфакс Ельцина ',\n",
       " 'которые будут облагаться по новым ставкам считают участники рынка ГКО-ОФЗ Рынок может болезненно отреагировать на эти нововведения ведь не у всех крепкие нервы ',\n",
       " 'Дивиденд по обыкновенным акциям планируется не ***ниже*** года рублей с учетом инфляции ',\n",
       " 'ВЕЧЕРНИЙ БИШКЕК Шей да пори не ***будет*** простой поры ',\n",
       " 'Дивиденд по обыкновенным акциям планируется не ***ниже*** года рублей с учетом инфляции ']"
      ]
     },
     "execution_count": 52,
     "metadata": {},
     "output_type": "execute_result"
    }
   ],
   "source": [
    "# после \"не\", не размечено, нейронка ответила правильно\n",
    "fp_difference"
   ]
  },
  {
   "cell_type": "code",
   "execution_count": null,
   "metadata": {
    "collapsed": true
   },
   "outputs": [],
   "source": []
  }
 ],
 "metadata": {
  "kernelspec": {
   "display_name": "Python 3",
   "language": "python",
   "name": "python3"
  },
  "language_info": {
   "codemirror_mode": {
    "name": "ipython",
    "version": 3
   },
   "file_extension": ".py",
   "mimetype": "text/x-python",
   "name": "python",
   "nbconvert_exporter": "python",
   "pygments_lexer": "ipython3",
   "version": "3.6.5"
  }
 },
 "nbformat": 4,
 "nbformat_minor": 2
}
