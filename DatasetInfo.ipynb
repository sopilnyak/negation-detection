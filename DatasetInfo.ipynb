{
 "cells": [
  {
   "cell_type": "code",
   "execution_count": 1,
   "metadata": {
    "collapsed": true
   },
   "outputs": [],
   "source": [
    "import numpy as np\n",
    "import pandas as pd\n",
    "import os\n",
    "import glob\n",
    "import nltk\n",
    "from collections import Counter\n",
    "from nltk.probability import FreqDist\n",
    "import matplotlib.pyplot as plt\n",
    "\n",
    "%matplotlib inline"
   ]
  },
  {
   "cell_type": "markdown",
   "metadata": {},
   "source": [
    "## Настройки"
   ]
  },
  {
   "cell_type": "code",
   "execution_count": 2,
   "metadata": {
    "collapsed": true
   },
   "outputs": [],
   "source": [
    "#path = './data/Reuters_russian_articles/'\n",
    "path = './data/2017.12.09-1959-Polarity-Job1943-ru-RU/Reuters_russian_articles/'\n",
    "window_size = 200"
   ]
  },
  {
   "cell_type": "markdown",
   "metadata": {},
   "source": [
    "## Пример разметки"
   ]
  },
  {
   "cell_type": "code",
   "execution_count": 3,
   "metadata": {
    "collapsed": true
   },
   "outputs": [],
   "source": [
    "filename = os.path.join(path, '10220334-УМВБ - карбованец не изменился в Киеве 176.100 за доллар..csv')\n",
    "data = pd.read_csv(filename, sep='\\t', names=['Offset', 'Text', 'Tags'], skip_blank_lines=False)"
   ]
  },
  {
   "cell_type": "code",
   "execution_count": 4,
   "metadata": {
    "collapsed": false
   },
   "outputs": [
    {
     "data": {
      "text/html": [
       "<div>\n",
       "<style scoped>\n",
       "    .dataframe tbody tr th:only-of-type {\n",
       "        vertical-align: middle;\n",
       "    }\n",
       "\n",
       "    .dataframe tbody tr th {\n",
       "        vertical-align: top;\n",
       "    }\n",
       "\n",
       "    .dataframe thead th {\n",
       "        text-align: right;\n",
       "    }\n",
       "</style>\n",
       "<table border=\"1\" class=\"dataframe\">\n",
       "  <thead>\n",
       "    <tr style=\"text-align: right;\">\n",
       "      <th></th>\n",
       "      <th>Offset</th>\n",
       "      <th>Text</th>\n",
       "      <th>Tags</th>\n",
       "    </tr>\n",
       "  </thead>\n",
       "  <tbody>\n",
       "    <tr>\n",
       "      <th>0</th>\n",
       "      <td>Offset=0</td>\n",
       "      <td>Text=МОСКВА</td>\n",
       "      <td>NaN</td>\n",
       "    </tr>\n",
       "    <tr>\n",
       "      <th>1</th>\n",
       "      <td>Offset=8</td>\n",
       "      <td>Text=20</td>\n",
       "      <td>NaN</td>\n",
       "    </tr>\n",
       "    <tr>\n",
       "      <th>2</th>\n",
       "      <td>Offset=11</td>\n",
       "      <td>Text=авг</td>\n",
       "      <td>NaN</td>\n",
       "    </tr>\n",
       "    <tr>\n",
       "      <th>3</th>\n",
       "      <td>Offset=16</td>\n",
       "      <td>Text=Рейтер</td>\n",
       "      <td>NaN</td>\n",
       "    </tr>\n",
       "    <tr>\n",
       "      <th>4</th>\n",
       "      <td>Offset=26</td>\n",
       "      <td>Text=Курс</td>\n",
       "      <td>NaN</td>\n",
       "    </tr>\n",
       "    <tr>\n",
       "      <th>5</th>\n",
       "      <td>Offset=31</td>\n",
       "      <td>Text=карбованца</td>\n",
       "      <td>NaN</td>\n",
       "    </tr>\n",
       "    <tr>\n",
       "      <th>6</th>\n",
       "      <td>Offset=42</td>\n",
       "      <td>Text=к</td>\n",
       "      <td>NaN</td>\n",
       "    </tr>\n",
       "    <tr>\n",
       "      <th>7</th>\n",
       "      <td>Offset=44</td>\n",
       "      <td>Text=доллару</td>\n",
       "      <td>NaN</td>\n",
       "    </tr>\n",
       "    <tr>\n",
       "      <th>8</th>\n",
       "      <td>Offset=52</td>\n",
       "      <td>Text=не</td>\n",
       "      <td>NaN</td>\n",
       "    </tr>\n",
       "    <tr>\n",
       "      <th>9</th>\n",
       "      <td>Offset=55</td>\n",
       "      <td>Text=изменился</td>\n",
       "      <td>Polarity=Negative(4529)</td>\n",
       "    </tr>\n",
       "    <tr>\n",
       "      <th>10</th>\n",
       "      <td>Offset=65</td>\n",
       "      <td>Text=на</td>\n",
       "      <td>NaN</td>\n",
       "    </tr>\n",
       "    <tr>\n",
       "      <th>11</th>\n",
       "      <td>Offset=68</td>\n",
       "      <td>Text=Украинской</td>\n",
       "      <td>NaN</td>\n",
       "    </tr>\n",
       "    <tr>\n",
       "      <th>12</th>\n",
       "      <td>Offset=79</td>\n",
       "      <td>Text=Межбанковской</td>\n",
       "      <td>NaN</td>\n",
       "    </tr>\n",
       "    <tr>\n",
       "      <th>13</th>\n",
       "      <td>Offset=93</td>\n",
       "      <td>Text=Валютной</td>\n",
       "      <td>NaN</td>\n",
       "    </tr>\n",
       "    <tr>\n",
       "      <th>14</th>\n",
       "      <td>Offset=102</td>\n",
       "      <td>Text=Бирже</td>\n",
       "      <td>NaN</td>\n",
       "    </tr>\n",
       "  </tbody>\n",
       "</table>\n",
       "</div>"
      ],
      "text/plain": [
       "        Offset                Text                     Tags\n",
       "0     Offset=0         Text=МОСКВА                      NaN\n",
       "1     Offset=8             Text=20                      NaN\n",
       "2    Offset=11            Text=авг                      NaN\n",
       "3    Offset=16         Text=Рейтер                      NaN\n",
       "4    Offset=26           Text=Курс                      NaN\n",
       "5    Offset=31     Text=карбованца                      NaN\n",
       "6    Offset=42              Text=к                      NaN\n",
       "7    Offset=44        Text=доллару                      NaN\n",
       "8    Offset=52             Text=не                      NaN\n",
       "9    Offset=55      Text=изменился  Polarity=Negative(4529)\n",
       "10   Offset=65             Text=на                      NaN\n",
       "11   Offset=68     Text=Украинской                      NaN\n",
       "12   Offset=79  Text=Межбанковской                      NaN\n",
       "13   Offset=93       Text=Валютной                      NaN\n",
       "14  Offset=102          Text=Бирже                      NaN"
      ]
     },
     "execution_count": 4,
     "metadata": {},
     "output_type": "execute_result"
    }
   ],
   "source": [
    "data.head(15)"
   ]
  },
  {
   "cell_type": "markdown",
   "metadata": {},
   "source": [
    "## Размеры данных"
   ]
  },
  {
   "cell_type": "markdown",
   "metadata": {},
   "source": [
    "### Количество текстов"
   ]
  },
  {
   "cell_type": "code",
   "execution_count": 5,
   "metadata": {
    "collapsed": false
   },
   "outputs": [
    {
     "data": {
      "text/plain": [
       "17487"
      ]
     },
     "execution_count": 5,
     "metadata": {},
     "output_type": "execute_result"
    }
   ],
   "source": [
    "# Берем все csv-файлы из нужной директории\n",
    "directory = glob.glob(os.path.join(path, '*.csv'))\n",
    "len(directory)"
   ]
  },
  {
   "cell_type": "code",
   "execution_count": 8,
   "metadata": {
    "collapsed": true
   },
   "outputs": [],
   "source": [
    "# for filename in directory:\n",
    "    \n",
    "#     data = pd.read_csv(filename, sep='\\t', names=['Offset', 'Text', 'Tags 1', 'Tags 2'], skip_blank_lines=False)\n",
    "    \n",
    "#     # Найдем, есть ли еще столбцы, помимо третьего\n",
    "#     if (not pd.isnull(np.array(data['Tags 2'])).all()):\n",
    "#         print(data)\n",
    "        \n",
    "# # Их нет, поэтому в дальнейшем берем только первые 3"
   ]
  },
  {
   "cell_type": "code",
   "execution_count": 9,
   "metadata": {
    "collapsed": false
   },
   "outputs": [
    {
     "name": "stdout",
     "output_type": "stream",
     "text": [
      "1000\n",
      "2000\n",
      "3000\n",
      "4000\n",
      "5000\n",
      "6000\n",
      "7000\n",
      "8000\n",
      "9000\n",
      "10000\n",
      "11000\n",
      "12000\n",
      "13000\n",
      "14000\n",
      "15000\n",
      "16000\n",
      "17000\n",
      "CPU times: user 3min 11s, sys: 1.16 s, total: 3min 13s\n",
      "Wall time: 3min 13s\n"
     ]
    }
   ],
   "source": [
    "%%time\n",
    "\n",
    "words = []  # список слов во всех текстах\n",
    "symbols_count = 0  # количество символов во всех текстах\n",
    "sentenses_count = 0  # количество предложений во всех текстах\n",
    "is_new_sentense = True  # индикатор конца предложения, для подсчета количества предложений с тегами\n",
    "sentenses_with_tags_count = 0  # Количество предложений с тегами\n",
    "files_count = 0  # счетчик файлов, нужен для вывода прогресса\n",
    "tags_count = Counter()  # счетчик количества тегов\n",
    "\n",
    "for filename in directory:\n",
    "    \n",
    "    data = pd.read_csv(filename, sep='\\t', names=['Offset', 'Text', 'Tags'], skip_blank_lines=False)\n",
    "        \n",
    "    for row_number in range(len(data)):\n",
    "        \n",
    "        # Предложения разделены пустой строкой, поэтому чтобы посчитать количество \n",
    "        # предложений, посчитаем количество пустых строк и потом прибавим 1\n",
    "        if (pd.isnull(data['Offset'][row_number])):\n",
    "            sentenses_count += 1\n",
    "            is_new_sentense = True\n",
    "            \n",
    "        # Считаем количество слов и символов\n",
    "        if (not pd.isnull(data['Text'][row_number])):\n",
    "            word = data['Text'][row_number].split(\"=\")[1]\n",
    "            words.append(word.lower())\n",
    "            symbols_count += len(word)\n",
    "            \n",
    "        # Считаем количество тегов\n",
    "        if (not pd.isnull(data['Tags'][row_number])):\n",
    "            tags_count[data['Tags'][row_number]] += 1\n",
    "            if (is_new_sentense):\n",
    "                sentenses_with_tags_count += 1\n",
    "                is_new_sentense = False\n",
    "            \n",
    "            \n",
    "    sentenses_count += 1\n",
    "    files_count += 1\n",
    "    if files_count % 1000 == 0:\n",
    "        print(files_count)"
   ]
  },
  {
   "cell_type": "markdown",
   "metadata": {},
   "source": [
    "### Количество слов"
   ]
  },
  {
   "cell_type": "code",
   "execution_count": 10,
   "metadata": {
    "collapsed": false
   },
   "outputs": [
    {
     "data": {
      "text/plain": [
       "3222657"
      ]
     },
     "execution_count": 10,
     "metadata": {},
     "output_type": "execute_result"
    }
   ],
   "source": [
    "len(words)"
   ]
  },
  {
   "cell_type": "markdown",
   "metadata": {},
   "source": [
    "### Количество символов"
   ]
  },
  {
   "cell_type": "code",
   "execution_count": 11,
   "metadata": {
    "collapsed": false
   },
   "outputs": [
    {
     "data": {
      "text/plain": [
       "22703708"
      ]
     },
     "execution_count": 11,
     "metadata": {},
     "output_type": "execute_result"
    }
   ],
   "source": [
    "symbols_count"
   ]
  },
  {
   "cell_type": "markdown",
   "metadata": {},
   "source": [
    "### Количество предложений"
   ]
  },
  {
   "cell_type": "code",
   "execution_count": 12,
   "metadata": {
    "collapsed": false
   },
   "outputs": [
    {
     "data": {
      "text/plain": [
       "206856"
      ]
     },
     "execution_count": 12,
     "metadata": {},
     "output_type": "execute_result"
    }
   ],
   "source": [
    "sentenses_count"
   ]
  },
  {
   "cell_type": "markdown",
   "metadata": {},
   "source": [
    "### Количество тегов"
   ]
  },
  {
   "cell_type": "code",
   "execution_count": 13,
   "metadata": {
    "collapsed": false
   },
   "outputs": [
    {
     "data": {
      "text/plain": [
       "Counter({'Polarity=Negative(4529)': 18602,\n",
       "         'PolarityNonPredicative=NonPredicativeNegative(4511)': 2664,\n",
       "         'PolarityNonPredicative=NonPredicativeNegative_Initial(6091)': 6})"
      ]
     },
     "execution_count": 13,
     "metadata": {},
     "output_type": "execute_result"
    }
   ],
   "source": [
    "tags_count"
   ]
  },
  {
   "cell_type": "code",
   "execution_count": 14,
   "metadata": {
    "collapsed": false
   },
   "outputs": [
    {
     "data": {
      "text/plain": [
       "0.00577225562633566"
      ]
     },
     "execution_count": 14,
     "metadata": {},
     "output_type": "execute_result"
    }
   ],
   "source": [
    "tags_count['Polarity=Negative(4529)'] / len(words)"
   ]
  },
  {
   "cell_type": "code",
   "execution_count": 15,
   "metadata": {
    "collapsed": false
   },
   "outputs": [
    {
     "data": {
      "text/plain": [
       "0.0008266470803439522"
      ]
     },
     "execution_count": 15,
     "metadata": {},
     "output_type": "execute_result"
    }
   ],
   "source": [
    "tags_count['PolarityNonPredicative=NonPredicativeNegative(4511)'] / len(words)"
   ]
  },
  {
   "cell_type": "markdown",
   "metadata": {},
   "source": [
    "### Количество предложений с тегами"
   ]
  },
  {
   "cell_type": "code",
   "execution_count": 16,
   "metadata": {
    "collapsed": false
   },
   "outputs": [
    {
     "data": {
      "text/plain": [
       "18685"
      ]
     },
     "execution_count": 16,
     "metadata": {},
     "output_type": "execute_result"
    }
   ],
   "source": [
    "sentenses_with_tags_count"
   ]
  },
  {
   "cell_type": "code",
   "execution_count": 17,
   "metadata": {
    "collapsed": false
   },
   "outputs": [
    {
     "data": {
      "text/plain": [
       "0.09032853772672778"
      ]
     },
     "execution_count": 17,
     "metadata": {},
     "output_type": "execute_result"
    }
   ],
   "source": [
    "sentenses_with_tags_count / sentenses_count"
   ]
  },
  {
   "cell_type": "markdown",
   "metadata": {},
   "source": [
    "## Исследование разметки"
   ]
  },
  {
   "cell_type": "code",
   "execution_count": 18,
   "metadata": {
    "collapsed": true
   },
   "outputs": [],
   "source": [
    "def cat(filename):\n",
    "    with open(filename, 'r') as f:\n",
    "        return f.read().replace('\\n', '')"
   ]
  },
  {
   "cell_type": "code",
   "execution_count": 19,
   "metadata": {
    "collapsed": false
   },
   "outputs": [
    {
     "name": "stdout",
     "output_type": "stream",
     "text": [
      "1000\n",
      "2000\n",
      "3000\n",
      "4000\n",
      "5000\n",
      "6000\n",
      "7000\n",
      "8000\n",
      "9000\n",
      "10000\n",
      "11000\n",
      "12000\n",
      "13000\n",
      "14000\n",
      "15000\n",
      "16000\n",
      "17000\n",
      "CPU times: user 1min 11s, sys: 840 ms, total: 1min 12s\n",
      "Wall time: 1min 14s\n"
     ]
    }
   ],
   "source": [
    "%%time\n",
    "\n",
    "words_in_windows = []  # слова из всех +/-2 окон тегированных\n",
    "words_without_no = []  # тегированные слова, в контексте которых нет \"не\" и \"нет\"\n",
    "hasnt_negative_word_contexts = []  # контексты этих слов\n",
    "files_count = 0  # счетчик файлов, нужен для вывода прогресса\n",
    "\n",
    "for filename in directory:\n",
    "    \n",
    "    data = pd.read_csv(filename, sep='\\t', names=['Offset', 'Text', 'Tags'], skip_blank_lines=False)\n",
    "        \n",
    "    for row_number in range(len(data)):\n",
    "            \n",
    "        # Находим тегированное слово\n",
    "        if (not pd.isnull(data['Tags'][row_number])):\n",
    "            \n",
    "            has_no = False\n",
    "            \n",
    "            # Смотрим на его +/-2 окно\n",
    "            for window_step in [-2, -1, 0, 1, 2]:\n",
    "                if row_number + window_step >= 0 and row_number + window_step < len(data):\n",
    "                    text = data['Text'][row_number + window_step]\n",
    "                    if not isinstance(text, float):\n",
    "                        text = text.split(\"=\")[1].lower()\n",
    "                        words_in_windows.append(text)\n",
    "                    \n",
    "                        if not has_no and (text == \"не\" or text == \"нет\"):\n",
    "                            has_no = True\n",
    "            \n",
    "            # Расширяем окно до +/-3 и находим слова с отрицанием, вокруг которых нет \"не\" и \"нет\"\n",
    "            for window_step in [-3, 3]:\n",
    "                if row_number + window_step >= 0 and row_number + window_step < len(data):\n",
    "                    text = data['Text'][row_number + window_step]\n",
    "                    if not has_no and not isinstance(text, float):\n",
    "                        text = text.split(\"=\")[1].lower()\n",
    "                        if text == \"не\" or text == \"нет\":\n",
    "                            has_no = True\n",
    "            \n",
    "            text = data['Text'][row_number]\n",
    "            if (not has_no and not isinstance(text, float)):\n",
    "                text = text.split(\"=\")[1]\n",
    "                words_without_no.append(data['Text'][row_number].split(\"=\")[1].lower())\n",
    "                offset = int(data['Offset'][row_number].split(\"=\")[1])\n",
    "                file_text = cat(filename.replace(\"csv\", \"txt\"))\n",
    "                hasnt_negative_word_contexts.append(file_text[offset - int(window_size / 2):offset] + \n",
    "                                                   '\\x1b[31m' + file_text[offset:offset + len(text)] + \n",
    "                                                   '\\x1b[0m' + file_text[offset + len(text):offset + \n",
    "                                                                         int(window_size / 2)])\n",
    "            \n",
    "    files_count += 1\n",
    "    if files_count % 1000 == 0:\n",
    "        print(files_count)"
   ]
  },
  {
   "cell_type": "code",
   "execution_count": 20,
   "metadata": {
    "collapsed": true
   },
   "outputs": [],
   "source": [
    "def get_freq_dict(wordlist):\n",
    "    \n",
    "    dictionary = FreqDist(wordlist)\n",
    "    \n",
    "    import operator\n",
    "    dictionary = sorted(dictionary.items(), key=operator.itemgetter(1), reverse=True)\n",
    "\n",
    "    for i in range(len(dictionary)):\n",
    "        dictionary[i] = (dictionary[i][0], dictionary[i][1] / len(wordlist))\n",
    "        \n",
    "    return dictionary"
   ]
  },
  {
   "cell_type": "code",
   "execution_count": 21,
   "metadata": {
    "collapsed": true
   },
   "outputs": [],
   "source": [
    "words_in_windows_freq = get_freq_dict(words_in_windows)"
   ]
  },
  {
   "cell_type": "markdown",
   "metadata": {},
   "source": [
    "### top-5 в окне +/-2 тегированных"
   ]
  },
  {
   "cell_type": "code",
   "execution_count": 22,
   "metadata": {
    "collapsed": false
   },
   "outputs": [
    {
     "data": {
      "text/plain": [
       "[('не', 0.19741499879430913),\n",
       " ('за', 0.016407041234627443),\n",
       " ('рейтер', 0.015789727513865443),\n",
       " ('ответственности', 0.014564745599228358),\n",
       " ('несет', 0.013243308415722209)]"
      ]
     },
     "execution_count": 22,
     "metadata": {},
     "output_type": "execute_result"
    }
   ],
   "source": [
    "words_in_windows_freq[:5]"
   ]
  },
  {
   "cell_type": "code",
   "execution_count": 23,
   "metadata": {
    "collapsed": false
   },
   "outputs": [
    {
     "data": {
      "text/plain": [
       "[('не', 0.19741499879430913),\n",
       " ('за', 0.016407041234627443),\n",
       " ('рейтер', 0.015789727513865443),\n",
       " ('ответственности', 0.014564745599228358),\n",
       " ('несет', 0.013243308415722209),\n",
       " ('и', 0.01288642392090668),\n",
       " ('в', 0.012876778394019774),\n",
       " ('на', 0.010494333252953942),\n",
       " ('пока', 0.009780564263322885),\n",
       " ('нет', 0.007726067036411864)]"
      ]
     },
     "execution_count": 23,
     "metadata": {},
     "output_type": "execute_result"
    }
   ],
   "source": [
    "words_in_windows_freq[:10]"
   ]
  },
  {
   "cell_type": "markdown",
   "metadata": {},
   "source": [
    "### Тегированные слова, в контексте +/-3 которых нет \"не\" и \"нет\""
   ]
  },
  {
   "cell_type": "code",
   "execution_count": 34,
   "metadata": {
    "collapsed": false
   },
   "outputs": [
    {
     "data": {
      "text/plain": [
       "55"
      ]
     },
     "execution_count": 34,
     "metadata": {},
     "output_type": "execute_result"
    }
   ],
   "source": [
    "len(words_without_no)"
   ]
  },
  {
   "cell_type": "code",
   "execution_count": 25,
   "metadata": {
    "collapsed": false
   },
   "outputs": [
    {
     "data": {
      "text/plain": [
       "[('отменен', 0.05454545454545454),\n",
       " ('дробиться', 0.03636363636363636),\n",
       " ('проводить', 0.03636363636363636),\n",
       " ('премьера', 0.03636363636363636),\n",
       " ('иметь', 0.03636363636363636)]"
      ]
     },
     "execution_count": 25,
     "metadata": {},
     "output_type": "execute_result"
    }
   ],
   "source": [
    "get_freq_dict(words_without_no)[:5]"
   ]
  },
  {
   "cell_type": "code",
   "execution_count": 26,
   "metadata": {
    "collapsed": false
   },
   "outputs": [
    {
     "name": "stdout",
     "output_type": "stream",
     "text": [
      "атизацию был подготовлен на очень низком уровне. Остается такое впечатление, что он не был до конца \u001b[35mпродуман\u001b[0m\",-сказал журналистам редактор независимого азербайджанского журнала \"Экономикс\" Губад Ибад-\n",
      "\n",
      "\n",
      " в среду председатель Мажилиса. \"Бюджет на 1997 год мало реален в своей основе, однако такой бюджет \u001b[35mлучше\u001b[0m чем никакого\", - сказал Оспанов (председатель Мажилиса - нижней палаты парламента). Правительс\n",
      "\n",
      "\n",
      ") были приняты незаконно\". В июне этого года Министерство финансов заявило, что не будет погашать и \u001b[35mвыплачивать\u001b[0m купонный доход по облигациям на общую сумму $24,22 миллиона, которые до этого были украд\n",
      "\n",
      "\n",
      "о словам, намеченный на 5 августа конкурс состоится, как и предполагалось, и не будет перенесен или \u001b[35mотменен\u001b[0m. Прием заявок на участие в конкурсе по акциям Норильского Никеля проводился с 22 июля по 16.\n",
      "\n",
      "\n",
      " хотят немного подождать, посмотреть и купить уже, может быть, что-то подешевле после понижения, но \u001b[35mгнать\u001b[0m его (рынок) до бесконечности никто не будет\", - сказал он. \"Посмотрим, как покажет себя Запад,\n",
      "\n",
      "\n",
      "ензином, - Авария на продуктопроводе в Гомельской области - не первая за последние годы, приносящая \u001b[35mущерб\u001b[0m окружающей среде районов, пострадавших от чернобыльской аварии. - Инфляция - крепкий орешек, -\n",
      "\n",
      "\n",
      "воде в Гомельской области - не первая за последние годы, приносящая ущерб окружающей среде районов, \u001b[35mпострадавших\u001b[0m от чернобыльской аварии. - Инфляция - крепкий орешек, - За первую неделю июня инфляция \n",
      "\n",
      "\n",
      "нно. У нас нормальные хорошие отношения\",-сказал Немцов. \"Я не буду врать. Я не буду брать взятки и \u001b[35mворовать\u001b[0m. Я буду объяснять людям все, что я делаю, в том числе и самые неприятные вещи, если таковые\n",
      "\n",
      "\n",
      "нно. У нас нормальные хорошие отношения\",-сказал Немцов. \"Я не буду врать. Я не буду брать взятки и \u001b[35mворовать\u001b[0m. Я буду объяснять людям все, что я делаю, в том числе и самые неприятные вещи, если таковые\n",
      "\n",
      "\n",
      " 17-18 процентов.\" (изменен источник прогноза - Нацбанк, а не правительство, а также прогнозируемый \u001b[35mуровень\u001b[0m инфляции - 17-18 процентов, а не десять процентов). Исправленная версия следует. АЛМА-АТА, 1\n",
      "\n",
      "\n"
     ]
    }
   ],
   "source": [
    "for context in hasnt_negative_word_contexts[:10]:\n",
    "    print(context.replace(\"\\x1b[31m\", \"\\x1b[35m\"))\n",
    "    print(\"\\n\")"
   ]
  },
  {
   "cell_type": "code",
   "execution_count": 33,
   "metadata": {
    "collapsed": true
   },
   "outputs": [],
   "source": [
    "with open(\"tags_without_no.txt\", \"w\") as f:\n",
    "    for context in hasnt_negative_word_contexts:\n",
    "        f.write(context.replace(\"\\x1b[31m\", \"**\").replace(\"\\x1b[0m\", \"**\"))\n",
    "        f.write(\"\\n\\n\")"
   ]
  },
  {
   "cell_type": "code",
   "execution_count": 27,
   "metadata": {
    "collapsed": false
   },
   "outputs": [
    {
     "name": "stdout",
     "output_type": "stream",
     "text": [
      "1000\n",
      "2000\n",
      "3000\n",
      "4000\n",
      "5000\n",
      "6000\n",
      "7000\n",
      "8000\n",
      "9000\n",
      "10000\n",
      "11000\n",
      "12000\n",
      "13000\n",
      "14000\n",
      "15000\n",
      "16000\n",
      "17000\n",
      "CPU times: user 1min 16s, sys: 964 ms, total: 1min 17s\n",
      "Wall time: 1min 24s\n"
     ]
    }
   ],
   "source": [
    "%%time\n",
    "\n",
    "hasnt_negative_tag_count = 0  # количество вхождений \"не\" и \"нет\", вокруг которых нет тега\n",
    "hasnt_negative_tag_contexts = []  # контексты этих слов\n",
    "not_count = 0  # всего вхождений частицы не\n",
    "files_count = 0  # счетчик файлов, нужен для вывода прогресса\n",
    "\n",
    "for filename in directory:\n",
    "    \n",
    "    data = pd.read_csv(filename, sep='\\t', names=['Offset', 'Text', 'Tags'], skip_blank_lines=False)\n",
    "        \n",
    "    for row_number in range(len(data)):\n",
    "        \n",
    "        text = data['Text'][row_number]\n",
    "        # Находим \"не\" и \"нет\"\n",
    "        if not isinstance(text, float):\n",
    "            text = text.split(\"=\")[1].lower()\n",
    "            if text == \"не\" or text == \"нет\":\n",
    "            \n",
    "                not_count += 1\n",
    "                has_negative_tag = False\n",
    "\n",
    "                # Смотрим на его +/-3 окно\n",
    "                for window_step in [-3, -2, -1, 0, 1, 2, 3]:\n",
    "                    if row_number + window_step >= 0 and row_number + window_step < len(data) and \\\n",
    "                        not pd.isnull(data['Tags'][row_number + window_step]):\n",
    "\n",
    "                        has_negative_tag = True\n",
    "\n",
    "                if (not has_negative_tag and not isinstance(text, float)):\n",
    "                    hasnt_negative_tag_count += 1\n",
    "                    offset = int(data['Offset'][row_number].split(\"=\")[1])\n",
    "                    file_text = cat(filename.replace(\"csv\", \"txt\"))\n",
    "                    hasnt_negative_tag_contexts.append(file_text[offset - int(window_size / 2):offset] + \n",
    "                                                       '\\x1b[31m' + file_text[offset:offset + len(text)] + \n",
    "                                                       '\\x1b[0m' + file_text[offset + len(text):offset + \n",
    "                                                                             int(window_size / 2)])\n",
    "            \n",
    "    files_count += 1\n",
    "    if files_count % 1000 == 0:\n",
    "        print(files_count)"
   ]
  },
  {
   "cell_type": "markdown",
   "metadata": {},
   "source": [
    "### Вхождения \"не\" и \"нет\", вокруг которых в окне +/- 3 нет тега отрицания"
   ]
  },
  {
   "cell_type": "code",
   "execution_count": 28,
   "metadata": {
    "collapsed": false
   },
   "outputs": [
    {
     "data": {
      "text/plain": [
       "544"
      ]
     },
     "execution_count": 28,
     "metadata": {},
     "output_type": "execute_result"
    }
   ],
   "source": [
    "hasnt_negative_tag_count"
   ]
  },
  {
   "cell_type": "code",
   "execution_count": 29,
   "metadata": {
    "collapsed": false
   },
   "outputs": [
    {
     "data": {
      "text/plain": [
       "21792"
      ]
     },
     "execution_count": 29,
     "metadata": {},
     "output_type": "execute_result"
    }
   ],
   "source": [
    "# Всего вхождений \"не\" и \"нет\"\n",
    "not_count"
   ]
  },
  {
   "cell_type": "code",
   "execution_count": 30,
   "metadata": {
    "collapsed": false
   },
   "outputs": [
    {
     "data": {
      "text/plain": [
       "0.024963289280469897"
      ]
     },
     "execution_count": 30,
     "metadata": {},
     "output_type": "execute_result"
    }
   ],
   "source": [
    "hasnt_negative_tag_count / not_count"
   ]
  },
  {
   "cell_type": "code",
   "execution_count": 31,
   "metadata": {
    "collapsed": false
   },
   "outputs": [
    {
     "name": "stdout",
     "output_type": "stream",
     "text": [
      "т Грузии Эдуард Шеварднадзе принял президента NPL Брюса Раппапорта. На встрече Шеварднадзе высказал \u001b[35mне\u001b[0mудовлетворение темпами добычи нефти и подчеркнул необходимость пересмотра условий соглашения между\n",
      "\n",
      "\n",
      "\u001b[35mне\u001b[0m одноместный. МОСКВА, 18 авг (Рейтер) - В подмосковном городе Жуковском разбился транспортный шест\n",
      "\n",
      "\n",
      "аты за газ, в Белоруссии внедряется новая система, предусматривающая конвертацию белорусских рублей \u001b[35mне\u001b[0m через Межбанковскую Валютную Бирже (МВБ), а через российские субъекты хозяйствования. Будут расши\n",
      "\n",
      "\n",
      " год 5-6 процентов, сказал вице-премьер Виктор Пинзеник. \"В нынешних условиях, пока Верховный Совет \u001b[35mне\u001b[0m принял пакет законопроектов по реформированию налоговой системы, мы можем прогнозировать сокращен\n",
      "\n",
      "\n",
      "но обсудить этот вопрос с премьером Лазаренко. При этом президент, с одной стороны, подчеркнул свое \u001b[35mне\u001b[0mудовлетворение работой экономического блока правительства, а с другой - сослался на слова Пинзеник\n",
      "\n",
      "\n",
      "ионеры, получающие дополнительные акции в результате переоценки основных фондов предприятий, смогут \u001b[35mне\u001b[0m платить налог на прибыль со стоимости этих акций. ПРОИЗВОДИТЕЛЕЙ МИНУДОБРЕНИЙ ТЯНЕТ ДРУГ К ДРУГУ \n",
      "\n",
      "\n",
      ".10 Братский лесокомплекс увольняет треть своих раотников. НЕГОСУДАРСТВЕННЫЕ ПЕНСИОННЫЕ ФОНДЫ РЕШЛИ \u001b[35mНЕ\u001b[0m СДАВАТЬСЯ стр.11 В пятницу НПФ провели \"круглый стол\" с участием инспекции и лиги НПФ. Обнаружен \n",
      "\n",
      "\n",
      "идента Украины Евгений Кушнарев сказал журналистам, что Пинзеник мотивировал свое решение \"крайней\" \u001b[35mне\u001b[0mудовлетворенностью и разочарованностью деятельностью и приоритетами Кабинета Министров. В аппарате\n",
      "\n",
      "\n",
      "новить осуществление этой сделки, пока наши юридические консультанты изучают полученные документы и \u001b[35mне\u001b[0m вынесут свое решение\", - сказал Рейтер начальник управления по организации работы с ценными бумаг\n",
      "\n",
      "\n",
      "оставить свои крупнейшие промышленные предприятия иностранным фирмам только на правах управления, а \u001b[35mне\u001b[0m продавать их. Продавать перспективные производства не выгодно, так как стоимость крайне низка в с\n",
      "\n",
      "\n"
     ]
    }
   ],
   "source": [
    "for context in hasnt_negative_tag_contexts[:10]:\n",
    "    print(context.replace(\"\\x1b[31m\", \"\\x1b[35m\"))\n",
    "    print(\"\\n\")"
   ]
  },
  {
   "cell_type": "code",
   "execution_count": 35,
   "metadata": {
    "collapsed": true
   },
   "outputs": [],
   "source": [
    "with open(\"no_without_tags.txt\", \"w\") as f:\n",
    "    for context in hasnt_negative_tag_contexts:\n",
    "        f.write(context.replace(\"\\x1b[31m\", \"**\").replace(\"\\x1b[0m\", \"**\"))\n",
    "        f.write(\"\\n\\n\")"
   ]
  },
  {
   "cell_type": "code",
   "execution_count": null,
   "metadata": {
    "collapsed": true
   },
   "outputs": [],
   "source": []
  }
 ],
 "metadata": {
  "kernelspec": {
   "display_name": "Python 3",
   "language": "python",
   "name": "python3"
  },
  "language_info": {
   "codemirror_mode": {
    "name": "ipython",
    "version": 3
   },
   "file_extension": ".py",
   "mimetype": "text/x-python",
   "name": "python",
   "nbconvert_exporter": "python",
   "pygments_lexer": "ipython3",
   "version": "3.6.4"
  }
 },
 "nbformat": 4,
 "nbformat_minor": 1
}
