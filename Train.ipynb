{
 "cells": [
  {
   "cell_type": "code",
   "execution_count": 1,
   "metadata": {
    "collapsed": true
   },
   "outputs": [],
   "source": [
    "# conda install -y gensim\n",
    "# run cell\n",
    "# conda uninstall -y boto\n",
    "# conda install -y boto\n",
    "\n",
    "import glob\n",
    "import os\n",
    "import numpy as np\n",
    "from gensim.models.keyedvectors import KeyedVectors\n",
    "from gensim.models.wrappers import FastText\n",
    "import pandas as pd\n",
    "import pymorphy2\n",
    "import re\n",
    "from tqdm import tqdm\n",
    "import _pickle as cPickle\n",
    "import matplotlib.pyplot as plt"
   ]
  },
  {
   "cell_type": "markdown",
   "metadata": {},
   "source": [
    "## Настройки"
   ]
  },
  {
   "cell_type": "code",
   "execution_count": 10,
   "metadata": {
    "collapsed": true
   },
   "outputs": [],
   "source": [
    "# Путь к папке с сохраненными данными\n",
    "data_folder = 'sem2012_padding'\n",
    "\n",
    "# Путь к папке, куда положить модель\n",
    "model_folder = 'ententen13_3_hinge'\n",
    "\n",
    "# # Путь к папке с сохраненными данными\n",
    "# data_folder = 'rutent2'\n",
    "\n",
    "# # Путь к папке, куда положить модель\n",
    "# model_folder = 'rutent2_3'\n",
    "\n",
    "# Настройки сети\n",
    "GRAD_CLIP = 100\n",
    "N_HIDDEN = 200\n",
    "NUM_EPOCHS = 50\n",
    "LEARNING_RATE = .0001\n",
    "EPOCH_SIZE = 100\n",
    "\n",
    "EMBEDDING_SIZE = 100\n",
    "MAX_SEQ_LENGTH = 30  # максимальное количество слов в предложении\n",
    "N_BATCH = 128  # размер батча"
   ]
  },
  {
   "cell_type": "markdown",
   "metadata": {},
   "source": [
    "## Загрузка датасета из файлов"
   ]
  },
  {
   "cell_type": "code",
   "execution_count": 168,
   "metadata": {
    "collapsed": false
   },
   "outputs": [],
   "source": [
    "X = cPickle.load(open(os.path.join(data_folder, \"X_train.pkl\"), \"rb\"))\n",
    "# X_ = cPickle.load(open(os.path.join(data_folder, \"X_train1.pkl\"), \"rb\"))\n",
    "# X = np.concatenate((X, X_), axis=0)\n",
    "y = cPickle.load(open(os.path.join(data_folder, \"y_train.pkl\"), \"rb\"))\n",
    "X_test = cPickle.load(open(os.path.join(data_folder, \"X_test.pkl\"), \"rb\"))\n",
    "y_test = cPickle.load(open(os.path.join(data_folder, \"y_test.pkl\"), \"rb\"))\n",
    "texts = cPickle.load(open(os.path.join(data_folder, \"texts.pkl\"), \"rb\"))\n",
    "\n",
    "# X = cPickle.load(open(os.path.join(data_folder, \"X_train.pkl\"), \"rb\"))\n",
    "# X_ = cPickle.load(open(os.path.join(data_folder, \"X_train1.pkl\"), \"rb\"))\n",
    "# X = np.concatenate((X, X_), axis=0)\n",
    "# y = cPickle.load(open(os.path.join(data_folder, \"y_train.pkl\"), \"rb\"))\n",
    "# X_test = cPickle.load(open(os.path.join(data_folder, \"X_test.pkl\"), \"rb\"))\n",
    "# y_test = cPickle.load(open(os.path.join(data_folder, \"y_test.pkl\"), \"rb\"))\n",
    "# texts = cPickle.load(open(os.path.join(data_folder, \"texts.pkl\"), \"rb\"))"
   ]
  },
  {
   "cell_type": "code",
   "execution_count": 169,
   "metadata": {
    "collapsed": false
   },
   "outputs": [],
   "source": [
    "# y = np.array([np.array(target)[:, 0] for target in y])\n",
    "# y_test = np.array([np.array(target)[:, 0] for target in y_test])"
   ]
  },
  {
   "cell_type": "code",
   "execution_count": 170,
   "metadata": {
    "collapsed": false
   },
   "outputs": [],
   "source": [
    "y = np.delete(y, 1, axis=2)\n",
    "y_test = np.delete(y_test, 1, axis=2)"
   ]
  },
  {
   "cell_type": "code",
   "execution_count": 171,
   "metadata": {
    "collapsed": false
   },
   "outputs": [],
   "source": [
    "y[y < 0.5] = -1\n",
    "y_test[y_test < 0.5] = -1\n",
    "#y_test = np.argmin(y_test, axis=2)"
   ]
  },
  {
   "cell_type": "code",
   "execution_count": 172,
   "metadata": {
    "collapsed": false
   },
   "outputs": [
    {
     "name": "stdout",
     "output_type": "stream",
     "text": [
      "X shape: (4309, 30, 200)\n",
      "y shape: (4309, 30, 1)\n",
      "X_test shape: (1847, 30, 200)\n",
      "y_test shape: (1847, 30, 1)\n",
      "texts length: 6156\n"
     ]
    }
   ],
   "source": [
    "print(\"X shape:\", X.shape)\n",
    "print(\"y shape:\", y.shape)\n",
    "print(\"X_test shape:\", X_test.shape)\n",
    "print(\"y_test shape:\", y_test.shape)\n",
    "print(\"texts length:\", len(texts))"
   ]
  },
  {
   "cell_type": "code",
   "execution_count": 173,
   "metadata": {
    "collapsed": false
   },
   "outputs": [
    {
     "name": "stdout",
     "output_type": "stream",
     "text": [
      "[name: \"/device:CPU:0\"\n",
      "device_type: \"CPU\"\n",
      "memory_limit: 268435456\n",
      "locality {\n",
      "}\n",
      "incarnation: 15728975609246575807\n",
      ", name: \"/device:GPU:0\"\n",
      "device_type: \"GPU\"\n",
      "memory_limit: 139460608\n",
      "locality {\n",
      "  bus_id: 1\n",
      "}\n",
      "incarnation: 9308131407026218061\n",
      "physical_device_desc: \"device: 0, name: Tesla K80, pci bus id: 0000:00:04.0, compute capability: 3.7\"\n",
      "]\n"
     ]
    }
   ],
   "source": [
    "# Проверим наличие GPU\n",
    "\n",
    "from tensorflow.python.client import device_lib\n",
    "print(device_lib.list_local_devices())"
   ]
  },
  {
   "cell_type": "markdown",
   "metadata": {},
   "source": [
    "## Построение архитектуры сети"
   ]
  },
  {
   "cell_type": "code",
   "execution_count": 174,
   "metadata": {
    "collapsed": false
   },
   "outputs": [],
   "source": [
    "from keras.models import Sequential\n",
    "from keras.layers import LSTM, Bidirectional, Dense, Activation, InputLayer, Dropout, Flatten\n",
    "from keras.optimizers import Adagrad, Adam\n",
    "from keras.regularizers import l2, l1\n",
    "from keras.models import model_from_json\n",
    "from keras.callbacks import History\n",
    "from keras.callbacks import TensorBoard\n",
    "\n",
    "from time import time"
   ]
  },
  {
   "cell_type": "code",
   "execution_count": 175,
   "metadata": {
    "collapsed": false
   },
   "outputs": [],
   "source": [
    "model = Sequential()\n",
    "\n",
    "# Архитектура сети\n",
    "model.add(InputLayer(input_shape=(MAX_SEQ_LENGTH, EMBEDDING_SIZE * 2)))\n",
    "model.add(Bidirectional(LSTM(128, return_sequences=True, dropout=0.2)))\n",
    "model.add(Dense(units=1, activation='sigmoid'))\n",
    "adam = Adam()\n",
    "\n",
    "model.compile(loss='binary_crossentropy', optimizer=adam, metrics=['binary_accuracy', 'categorical_accuracy'])  # 'adam', 'accuracy'\n",
    "# model.compile(loss='binary_crossentropy', optimizer=adagrad, metrics=['categorical_accuracy'])  # 'adam', 'accuracy'"
   ]
  },
  {
   "cell_type": "code",
   "execution_count": 176,
   "metadata": {
    "collapsed": false
   },
   "outputs": [
    {
     "name": "stdout",
     "output_type": "stream",
     "text": [
      "_________________________________________________________________\n",
      "Layer (type)                 Output Shape              Param #   \n",
      "=================================================================\n",
      "input_19 (InputLayer)        (None, 30, 200)           0         \n",
      "_________________________________________________________________\n",
      "bidirectional_35 (Bidirectio (None, 30, 256)           336896    \n",
      "_________________________________________________________________\n",
      "dense_19 (Dense)             (None, 30, 1)             257       \n",
      "=================================================================\n",
      "Total params: 337,153\n",
      "Trainable params: 337,153\n",
      "Non-trainable params: 0\n",
      "_________________________________________________________________\n"
     ]
    }
   ],
   "source": [
    "model.summary()"
   ]
  },
  {
   "cell_type": "markdown",
   "metadata": {},
   "source": [
    "## Обучение"
   ]
  },
  {
   "cell_type": "code",
   "execution_count": 177,
   "metadata": {
    "collapsed": true
   },
   "outputs": [],
   "source": [
    "# Logging\n",
    "tensorboard = TensorBoard(log_dir=\"logs/ententen13_binary/{}\".format(time()))\n",
    "\n",
    "# tensorboard --logdir=logs/"
   ]
  },
  {
   "cell_type": "code",
   "execution_count": 178,
   "metadata": {
    "collapsed": false
   },
   "outputs": [
    {
     "name": "stdout",
     "output_type": "stream",
     "text": [
      "CPU times: user 7min 8s, sys: 22 s, total: 7min 30s\n",
      "Wall time: 5min 28s\n"
     ]
    }
   ],
   "source": [
    "%%time\n",
    "\n",
    "try:\n",
    "    fit_history = model.fit(X, y, batch_size=N_BATCH, epochs=200, validation_split=0.2, verbose=0, callbacks=[tensorboard])\n",
    "    \n",
    "except KeyboardInterrupt:\n",
    "    pass"
   ]
  },
  {
   "cell_type": "code",
   "execution_count": 43,
   "metadata": {
    "collapsed": false
   },
   "outputs": [
    {
     "data": {
      "text/plain": [
       "dict_keys(['val_loss', 'val_binary_accuracy', 'val_categorical_accuracy', 'loss', 'binary_accuracy', 'categorical_accuracy'])"
      ]
     },
     "execution_count": 43,
     "metadata": {},
     "output_type": "execute_result"
    }
   ],
   "source": [
    "fit_history.history.keys()"
   ]
  },
  {
   "cell_type": "code",
   "execution_count": 44,
   "metadata": {
    "collapsed": false
   },
   "outputs": [
    {
     "data": {
      "image/png": "[encoded data removed]",
      "text/plain": [
       "<matplotlib.figure.Figure at 0x7f6aba165c18>"
      ]
     },
     "metadata": {},
     "output_type": "display_data"
    }
   ],
   "source": [
    "# График для accuracy\n",
    "\n",
    "plt.figure(figsize=(16, 10))\n",
    "plt.plot(fit_history.history['binary_accuracy'])\n",
    "plt.plot(fit_history.history['val_binary_accuracy'])\n",
    "plt.title('model accuracy')\n",
    "plt.ylabel('accuracy')\n",
    "plt.xlabel('epoch')\n",
    "plt.legend(['train', 'validation'], loc='upper left')\n",
    "plt.show()"
   ]
  },
  {
   "cell_type": "code",
   "execution_count": 45,
   "metadata": {
    "collapsed": false
   },
   "outputs": [
    {
     "data": {
      "image/png": "[encoded data removed]",
      "text/plain": [
       "<matplotlib.figure.Figure at 0x7f6aba127cf8>"
      ]
     },
     "metadata": {},
     "output_type": "display_data"
    }
   ],
   "source": [
    "# График для loss\n",
    "\n",
    "plt.figure(figsize=(16, 10))\n",
    "plt.plot(fit_history.history['loss'])\n",
    "plt.plot(fit_history.history['val_loss'])\n",
    "plt.title('model loss')\n",
    "plt.ylabel('loss')\n",
    "plt.xlabel('epoch')\n",
    "plt.legend(['train', 'validation'], loc='upper left')\n",
    "plt.show()"
   ]
  },
  {
   "cell_type": "code",
   "execution_count": 46,
   "metadata": {
    "collapsed": false
   },
   "outputs": [],
   "source": [
    "np.savetxt(os.path.join(model_folder, 'fit_history_loss.out'), fit_history.history['loss'], delimiter=',')\n",
    "np.savetxt(os.path.join(model_folder, 'fit_history_val_loss.out'), fit_history.history['val_loss'], delimiter=',')\n",
    "np.savetxt(os.path.join(model_folder, 'fit_history_acc.out'), fit_history.history['binary_accuracy'], delimiter=',')\n",
    "np.savetxt(os.path.join(model_folder, 'fit_history_val_acc.out'), fit_history.history['val_binary_accuracy'], delimiter=',')\n",
    "np.savetxt(os.path.join(model_folder, 'fit_history_catacc.out'), fit_history.history['categorical_accuracy'], delimiter=',')\n",
    "np.savetxt(os.path.join(model_folder, 'fit_history_val_catacc.out'), \n",
    "           fit_history.history['val_categorical_accuracy'], delimiter=',')"
   ]
  },
  {
   "cell_type": "markdown",
   "metadata": {
    "collapsed": false
   },
   "source": [
    "## Evaluation"
   ]
  },
  {
   "cell_type": "code",
   "execution_count": 21,
   "metadata": {
    "collapsed": false
   },
   "outputs": [
    {
     "data": {
      "text/plain": [
       "[0.009824039492177266, 0.9950911359136403, 0.9950911359136403]"
      ]
     },
     "execution_count": 21,
     "metadata": {},
     "output_type": "execute_result"
    }
   ],
   "source": [
    "scores = model.evaluate(X_test, y_test, verbose=0)\n",
    "scores"
   ]
  },
  {
   "cell_type": "code",
   "execution_count": 36,
   "metadata": {
    "collapsed": false
   },
   "outputs": [
    {
     "data": {
      "text/plain": [
       "[0.0019405318685219446, 0.710570936932285, 0.4214508615476433]"
      ]
     },
     "execution_count": 36,
     "metadata": {},
     "output_type": "execute_result"
    }
   ],
   "source": [
    "scores"
   ]
  },
  {
   "cell_type": "markdown",
   "metadata": {},
   "source": [
    "## Сохранение модели в файл"
   ]
  },
  {
   "cell_type": "code",
   "execution_count": 179,
   "metadata": {
    "collapsed": false
   },
   "outputs": [],
   "source": [
    "# Сохраним модель\n",
    "\n",
    "model_json = model.to_json()\n",
    "\n",
    "with open(os.path.join(model_folder, \"model.json\"), \"w\") as json_file:\n",
    "    json_file.write(model_json)\n",
    "\n",
    "model.save_weights(os.path.join(model_folder, \"model.h5\"))"
   ]
  },
  {
   "cell_type": "code",
   "execution_count": null,
   "metadata": {
    "collapsed": true
   },
   "outputs": [],
   "source": []
  }
 ],
 "metadata": {
  "kernelspec": {
   "display_name": "Python 3",
   "language": "python",
   "name": "python3"
  },
  "language_info": {
   "codemirror_mode": {
    "name": "ipython",
    "version": 3
   },
   "file_extension": ".py",
   "mimetype": "text/x-python",
   "name": "python",
   "nbconvert_exporter": "python",
   "pygments_lexer": "ipython3",
   "version": "3.6.4"
  }
 },
 "nbformat": 4,
 "nbformat_minor": 2
}
